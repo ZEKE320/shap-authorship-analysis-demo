{
 "cells": [
  {
   "cell_type": "code",
   "execution_count": 1,
   "metadata": {},
   "outputs": [],
   "source": [
    "%load_ext autoreload\n",
    "%autoreload 2"
   ]
  },
  {
   "cell_type": "code",
   "execution_count": 2,
   "metadata": {},
   "outputs": [
    {
     "name": "stderr",
     "output_type": "stream",
     "text": [
      "[nltk_data] Downloading package inaugural to /home/vscode/nltk_data...\n",
      "[nltk_data]   Package inaugural is already up-to-date!\n"
     ]
    },
    {
     "data": {
      "text/plain": [
       "True"
      ]
     },
     "execution_count": 2,
     "metadata": {},
     "output_type": "execute_result"
    }
   ],
   "source": [
    "import nltk\n",
    "\n",
    "nltk.download(\"inaugural\")"
   ]
  },
  {
   "cell_type": "code",
   "execution_count": 3,
   "metadata": {},
   "outputs": [
    {
     "name": "stdout",
     "output_type": "stream",
     "text": [
      "Project root: /workspaces/shap-authorship-analysis-demo\n",
      "Path: dump/text_data = /workspaces/shap-authorship-analysis-demo/dump/text_data\n",
      "Path: data/john_blake_2023/wordLists/adjectivesPastParticiple = /workspaces/shap-authorship-analysis-demo/data/john_blake_2023/wordLists/adjectivesPastParticiple\n",
      "Path: data/liyanage_vijini_2022 = /workspaces/shap-authorship-analysis-demo/data/liyanage_vijini_2022\n",
      "Path: data/uoa-thesis-2014-2017 = /workspaces/shap-authorship-analysis-demo/data/uoa-thesis-2014-2017\n",
      "Path: dump/processed_text = /workspaces/shap-authorship-analysis-demo/dump/processed_text\n",
      "Path: dump/dataset = /workspaces/shap-authorship-analysis-demo/dump/dataset\n",
      "Path: dump/lgbm/model = /workspaces/shap-authorship-analysis-demo/dump/lgbm/model\n",
      "Path: dump/shap/figure = /workspaces/shap-authorship-analysis-demo/dump/shap/figure\n"
     ]
    }
   ],
   "source": [
    "from pathlib import Path\n",
    "from typing import Final, TypeAlias\n",
    "\n",
    "import numpy as np\n",
    "import pandas as pd\n",
    "from nltk.corpus import inaugural\n",
    "\n",
    "from authorship_tool.types_ import Para2dStr\n",
    "from authorship_tool.util import dim_reshaper\n",
    "from authorship_tool.util.path_util import InauguralPaths"
   ]
  },
  {
   "cell_type": "code",
   "execution_count": 4,
   "metadata": {},
   "outputs": [],
   "source": [
    "output_path: Final[Path] = InauguralPaths.processed_text_dir"
   ]
  },
  {
   "cell_type": "code",
   "execution_count": 5,
   "metadata": {},
   "outputs": [],
   "source": [
    "np.seterr(divide=\"call\")\n",
    "pd.set_option(\"display.max_columns\", None)\n",
    "pd.set_option(\"display.max_rows\", None)"
   ]
  },
  {
   "cell_type": "code",
   "execution_count": 6,
   "metadata": {},
   "outputs": [],
   "source": [
    "PRESIDENT_A = \"Obama\"\n",
    "PRESIDENT_B = \"Bush\""
   ]
  },
  {
   "cell_type": "code",
   "execution_count": 7,
   "metadata": {},
   "outputs": [
    {
     "name": "stdout",
     "output_type": "stream",
     "text": [
      "#1\t1789-Washington.txt\n",
      "#2\t1793-Washington.txt\n",
      "#3\t1797-Adams.txt\n",
      "#4\t1801-Jefferson.txt\n",
      "#5\t1805-Jefferson.txt\n",
      "#6\t1809-Madison.txt\n",
      "#7\t1813-Madison.txt\n",
      "#8\t1817-Monroe.txt\n",
      "#9\t1821-Monroe.txt\n",
      "#10\t1825-Adams.txt\n",
      "#11\t1829-Jackson.txt\n",
      "#12\t1833-Jackson.txt\n",
      "#13\t1837-VanBuren.txt\n",
      "#14\t1841-Harrison.txt\n",
      "#15\t1845-Polk.txt\n",
      "#16\t1849-Taylor.txt\n",
      "#17\t1853-Pierce.txt\n",
      "#18\t1857-Buchanan.txt\n",
      "#19\t1861-Lincoln.txt\n",
      "#20\t1865-Lincoln.txt\n",
      "#21\t1869-Grant.txt\n",
      "#22\t1873-Grant.txt\n",
      "#23\t1877-Hayes.txt\n",
      "#24\t1881-Garfield.txt\n",
      "#25\t1885-Cleveland.txt\n",
      "#26\t1889-Harrison.txt\n",
      "#27\t1893-Cleveland.txt\n",
      "#28\t1897-McKinley.txt\n",
      "#29\t1901-McKinley.txt\n",
      "#30\t1905-Roosevelt.txt\n",
      "#31\t1909-Taft.txt\n",
      "#32\t1913-Wilson.txt\n",
      "#33\t1917-Wilson.txt\n",
      "#34\t1921-Harding.txt\n",
      "#35\t1925-Coolidge.txt\n",
      "#36\t1929-Hoover.txt\n",
      "#37\t1933-Roosevelt.txt\n",
      "#38\t1937-Roosevelt.txt\n",
      "#39\t1941-Roosevelt.txt\n",
      "#40\t1945-Roosevelt.txt\n",
      "#41\t1949-Truman.txt\n",
      "#42\t1953-Eisenhower.txt\n",
      "#43\t1957-Eisenhower.txt\n",
      "#44\t1961-Kennedy.txt\n",
      "#45\t1965-Johnson.txt\n",
      "#46\t1969-Nixon.txt\n",
      "#47\t1973-Nixon.txt\n",
      "#48\t1977-Carter.txt\n",
      "#49\t1981-Reagan.txt\n",
      "#50\t1985-Reagan.txt\n",
      "#51\t1989-Bush.txt\n",
      "#52\t1993-Clinton.txt\n",
      "#53\t1997-Clinton.txt\n",
      "#54\t2001-Bush.txt\n",
      "#55\t2005-Bush.txt\n",
      "#56\t2009-Obama.txt\n",
      "#57\t2013-Obama.txt\n",
      "#58\t2017-Trump.txt\n",
      "#59\t2021-Biden.txt\n"
     ]
    }
   ],
   "source": [
    "for idx, file_id in enumerate(inaugural.fileids()):\n",
    "    print(f\"#{idx+1}\\t{file_id}\")"
   ]
  },
  {
   "cell_type": "code",
   "execution_count": 8,
   "metadata": {},
   "outputs": [
    {
     "name": "stdout",
     "output_type": "stream",
     "text": [
      "1:\tNixon - 128 paragraphs\n",
      "2:\tRoosevelt - 121 paragraphs\n",
      "3:\tEisenhower - 92 paragraphs\n",
      "4:\tReagan - 81 paragraphs\n",
      "5:\tBush - 79 paragraphs\n",
      "6:\tTruman - 71 paragraphs\n",
      "7:\tObama - 66 paragraphs\n",
      "8:\tHarrison - 60 paragraphs\n",
      "9:\tClinton - 50 paragraphs\n",
      "10:\tMonroe - 48 paragraphs\n",
      "11:\tCleveland - 44 paragraphs\n",
      "12:\tTaft - 43 paragraphs\n",
      "13:\tLincoln - 43 paragraphs\n",
      "14:\tBiden - 41 paragraphs\n",
      "15:\tGarfield - 39 paragraphs\n",
      "16:\tHarding - 34 paragraphs\n",
      "17:\tHoover - 33 paragraphs\n",
      "18:\tGrant - 32 paragraphs\n",
      "19:\tTrump - 32 paragraphs\n",
      "20:\tMcKinley - 30 paragraphs\n",
      "21:\tJohnson - 30 paragraphs\n",
      "22:\tPolk - 30 paragraphs\n",
      "23:\tWilson - 28 paragraphs\n",
      "24:\tHayes - 27 paragraphs\n",
      "25:\tKennedy - 27 paragraphs\n",
      "26:\tCarter - 25 paragraphs\n",
      "27:\tAdams - 24 paragraphs\n",
      "28:\tCoolidge - 24 paragraphs\n",
      "29:\tJefferson - 22 paragraphs\n",
      "30:\tJackson - 21 paragraphs\n",
      "31:\tBuchanan - 20 paragraphs\n",
      "32:\tVanBuren - 19 paragraphs\n",
      "33:\tMadison - 18 paragraphs\n",
      "34:\tPierce - 14 paragraphs\n",
      "35:\tTaylor - 10 paragraphs\n",
      "36:\tWashington - 9 paragraphs\n"
     ]
    }
   ],
   "source": [
    "President: TypeAlias = str\n",
    "NumOfParas: TypeAlias = int\n",
    "\n",
    "presidents: set[President] = {file_id[5:-4] for file_id in inaugural.fileids()}\n",
    "\n",
    "president_data_dict: dict[President, NumOfParas] = {}\n",
    "\n",
    "for index, president in enumerate(presidents):\n",
    "    speeches: list[list[Para2dStr]] = [\n",
    "        inaugural.paras(fileids=file_id)\n",
    "        for file_id in inaugural.fileids()\n",
    "        if president in file_id\n",
    "    ]\n",
    "\n",
    "    para_num: NumOfParas = len([para for paras in speeches for para in paras])\n",
    "    president_data_dict[president] = para_num\n",
    "\n",
    "sorted_para_size_by_president: dict[President, NumOfParas] = dict(\n",
    "    sorted(president_data_dict.items(), key=lambda item: item[1], reverse=True)\n",
    ")\n",
    "\n",
    "for idx, item in enumerate(sorted_para_size_by_president.items()):\n",
    "    print(f\"{idx + 1}:\\t{item[0]} - {item[1]} paragraphs\")"
   ]
  },
  {
   "cell_type": "code",
   "execution_count": 9,
   "metadata": {},
   "outputs": [
    {
     "name": "stdout",
     "output_type": "stream",
     "text": [
      "My fellow citizens :\n",
      "I stand here today humbled by the task before us , grateful for the trust you have bestowed , mindful of the sacrifices borne by our ancestors . I thank President Bush for his service to our nation , as well as the generosity and cooperation he has shown throughout this transition .\n",
      "Forty - four Americans have now taken the presidential oath . The words have been spoken during rising tides of prosperity and the still waters of peace . Yet , every so often the oath is taken amidst gathering clouds and raging storms . At these moments , America has carried on not simply because of the skill or vision of those in high office , but because We the People have remained faithful to the ideals of our forbearers , and true to our founding documents .\n",
      "So it has been . So it must be with this generation of Americans .\n",
      "That we are in the midst of crisis is now well understood . Our nation is at war , against a far - reaching network of violence and hatred . Our economy is badly weakened , a consequence of greed and irresponsibility on the part of some , but also our collective failure to make hard choices and prepare the nation for a new age . Homes have been lost ; jobs shed ; businesses shuttered . Our health care is too costly ; our schools fail too many ; and each day brings further evidence that the ways we use energy strengthen our adversaries and threaten our planet .\n",
      "These are the indicators of crisis , subject to data and statistics . Less measurable but no less profound is a sapping of confidence across our land -- a nagging fear that America ' s decline is inevitable , that the next generation must lower its sights .\n",
      "Today I say to you that the challenges we face are real . They are serious and they are many . They will not be met easily or in a short span of time . But know this , America -- they will be met .\n",
      "On this day , we gather because we have chosen hope over fear , unity of purpose over conflict and discord .\n",
      "On this day , we come to proclaim an end to the petty grievances and false promises , the recriminations and worn - out dogmas that for far too long have strangled our politics .\n",
      "We remain a young nation , but in the words of Scripture , the time has come to set aside childish things . The time has come to reaffirm our enduring spirit ; to choose our better history ; to carry forward that precious gift , that noble idea , passed on from generation to generation : the God - given promise that all are equal , all are free , and all deserve a chance to pursue their full measure of happiness .\n",
      "In reaffirming the greatness of our nation , we understand that greatness is never a given . It must be earned . Our journey has never been one of shortcuts or settling for less . It has not been the path for the faint - hearted -- for those who prefer leisure over work , or seek only the pleasures of riches and fame . Rather , it has been the risk - takers , the doers , the makers of things ' some celebrated but more often men and women obscure in their labor , who have carried us up the long , rugged path towards prosperity and freedom .\n",
      "For us , they packed up their few worldly possessions and traveled across oceans in search of a new life .\n",
      "For us , they toiled in sweatshops and settled the West ; endured the lash of the whip and plowed the hard earth .\n",
      "For us , they fought and died , in places like Concord and Gettysburg ; Normandy and Khe Sahn .\n",
      "Time and again these men and women struggled and sacrificed and worked till their hands were raw so that we might live a better life . They saw America as bigger than the sum of our individual ambitions ; greater than all the differences of birth or wealth or faction .\n",
      "This is the journey we continue today . We remain the most prosperous , powerful nation on Earth . Our workers are no less productive than when this crisis began . Our minds are no less inventive , our goods and services no less needed than they were last week or last month or last year . Our capacity remains undiminished . But our time of standing pat , of protecting narrow interests and putting off unpleasant decisions -- that time has surely passed . Starting today , we must pick ourselves up , dust ourselves off , and begin again the work of remaking America .\n",
      "For everywhere we look , there is work to be done . The state of our economy calls for action , bold and swift , and we will act -- not only to create new jobs , but to lay a new foundation for growth . We will build the roads and bridges , the electric grids and digital lines that feed our commerce and bind us together . We will restore science to its rightful place , and wield technology ' s wonders to raise health care ' s quality and lower its cost . We will harness the sun and the winds and the soil to fuel our cars and run our factories . And we will transform our schools and colleges and universities to meet the demands of a new age . All this we can do . All this we will do .\n",
      "Now , there are some who question the scale of our ambitions -- who suggest that our system cannot tolerate too many big plans . Their memories are short . For they have forgotten what this country has already done ; what free men and women can achieve when imagination is joined to common purpose , and necessity to courage .\n",
      "What the cynics fail to understand is that the ground has shifted beneath them -- that the stale political arguments that have consumed us for so long no longer apply . The question we ask today is not whether our government is too big or too small , but whether it works -- whether it helps families find jobs at a decent wage , care they can afford , a retirement that is dignified . Where the answer is yes , we intend to move forward . Where the answer is no , programs will end . And those of us who manage the public ' s dollars will be held to account -- to spend wisely , reform bad habits , and do our business in the light of day -- because only then can we restore the vital trust between a people and their government .\n",
      "Nor is the question before us whether the market is a force for good or ill . Its power to generate wealth and expand freedom is unmatched , but this crisis has reminded us that without a watchful eye , the market can spin out of control -- the nation cannot prosper long when it favors only the prosperous . The success of our economy has always depended not just on the size of our Gross Domestic Product , but on the reach of our prosperity ; on the ability to extend opportunity to every willing heart -- not out of charity , but because it is the surest route to our common good .\n",
      "...\n",
      "\n",
      "Speaker: President Obama, 66 paragraphs\n",
      "\n"
     ]
    }
   ],
   "source": [
    "speeches_a: list[list[Para2dStr]] = [\n",
    "    inaugural.paras(file_id)\n",
    "    for file_id in inaugural.fileids()\n",
    "    if PRESIDENT_A in file_id\n",
    "]\n",
    "\n",
    "paras_a: list[Para2dStr] = [para for paras in speeches_a for para in paras]\n",
    "\n",
    "for para in paras_a[:20]:\n",
    "    print(dim_reshaper.two_dim_to_str(para))\n",
    "\n",
    "print(f\"...\\n\\nSpeaker: President {PRESIDENT_A}, {len(paras_a)} paragraphs\\n\")"
   ]
  },
  {
   "cell_type": "code",
   "execution_count": 10,
   "metadata": {},
   "outputs": [
    {
     "name": "stdout",
     "output_type": "stream",
     "text": [
      "Mr . Chief Justice , Mr . President , Vice President Quayle , Senator Mitchell , Speaker Wright , Senator Dole , Congressman Michael , and fellow citizens , neighbors , and friends :\n",
      "There is a man here who has earned a lasting place in our hearts and in our history . President Reagan , on behalf of our Nation , I thank you for the wonderful things that you have done for America .\n",
      "I have just repeated word for word the oath taken by George Washington 200 years ago , and the Bible on which I placed my hand is the Bible on which he placed his . It is right that the memory of Washington be with us today , not only because this is our Bicentennial Inauguration , but because Washington remains the Father of our Country . And he would , I think , be gladdened by this day ; for today is the concrete expression of a stunning fact : our continuity these 200 years since our government began .\n",
      "We meet on democracy ' s front porch , a good place to talk as neighbors and as friends . For this is a day when our nation is made whole , when our differences , for a moment , are suspended .\n",
      "And my first act as President is a prayer . I ask you to bow your heads :\n",
      "Heavenly Father , we bow our heads and thank You for Your love . Accept our thanks for the peace that yields this day and the shared faith that makes its continuance likely . Make us strong to do Your work , willing to heed and hear Your will , and write on our hearts these words : \" Use power to help people .\" For we are given power not to advance our own purposes , nor to make a great show in the world , nor a name . There is but one just use of power , and it is to serve people . Help us to remember it , Lord . Amen .\n",
      "I come before you and assume the Presidency at a moment rich with promise . We live in a peaceful , prosperous time , but we can make it better . For a new breeze is blowing , and a world refreshed by freedom seems reborn ; for in man ' s heart , if not in fact , the day of the dictator is over . The totalitarian era is passing , its old ideas blown away like leaves from an ancient , lifeless tree . A new breeze is blowing , and a nation refreshed by freedom stands ready to push on . There is new ground to be broken , and new action to be taken . There are times when the future seems thick as a fog ; you sit and wait , hoping the mists will lift and reveal the right path . But this is a time when the future seems a door you can walk right through into a room called tomorrow .\n",
      "Great nations of the world are moving toward democracy through the door to freedom . Men and women of the world move toward free markets through the door to prosperity . The people of the world agitate for free expression and free thought through the door to the moral and intellectual satisfactions that only liberty allows .\n",
      "We know what works : Freedom works . We know what ' s right : Freedom is right . We know how to secure a more just and prosperous life for man on Earth : through free markets , free speech , free elections , and the exercise of free will unhampered by the state .\n",
      "For the first time in this century , for the first time in perhaps all history , man does not have to invent a system by which to live . We don ' t have to talk late into the night about which form of government is better . We don ' t have to wrest justice from the kings . We only have to summon it from within ourselves . We must act on what we know . I take as my guide the hope of a saint : In crucial things , unity ; in important things , diversity ; in all things , generosity .\n",
      "America today is a proud , free nation , decent and civil , a place we cannot help but love . We know in our hearts , not loudly and proudly , but as a simple fact , that this country has meaning beyond what we see , and that our strength is a force for good . But have we changed as a nation even in our time ? Are we enthralled with material things , less appreciative of the nobility of work and sacrifice ?\n",
      "My friends , we are not the sum of our possessions . They are not the measure of our lives . In our hearts we know what matters . We cannot hope only to leave our children a bigger car , a bigger bank account . We must hope to give them a sense of what it means to be a loyal friend , a loving parent , a citizen who leaves his home , his neighborhood and town better than he found it . What do we want the men and women who work with us to say when we are no longer there ? That we were more driven to succeed than anyone around us ? Or that we stopped to ask if a sick child had gotten better , and stayed a moment there to trade a word of friendship ?\n",
      "No President , no government , can teach us to remember what is best in what we are . But if the man you have chosen to lead this government can help make a difference ; if he can celebrate the quieter , deeper successes that are made not of gold and silk , but of better hearts and finer souls ; if he can do these things , then he must .\n",
      "America is never wholly herself unless she is engaged in high moral principle . We as a people have such a purpose today . It is to make kinder the face of the Nation and gentler the face of the world . My friends , we have work to do . There are the homeless , lost and roaming . There are the children who have nothing , no love , no normalcy . There are those who cannot free themselves of enslavement to whatever addiction -- drugs , welfare , the demoralization that rules the slums . There is crime to be conquered , the rough crime of the streets . There are young women to be helped who are about to become mothers of children they can ' t care for and might not love . They need our care , our guidance , and our education , though we bless them for choosing life .\n",
      "The old solution , the old way , was to think that public money alone could end these problems . But we have learned that is not so . And in any case , our funds are low . We have a deficit to bring down . We have more will than wallet ; but will is what we need . We will make the hard choices , looking at what we have and perhaps allocating it differently , making our decisions based on honest need and prudent safety . And then we will do the wisest thing of all : We will turn to the only resource we have that in times of need always grows -- the goodness and the courage of the American people .\n",
      "I am speaking of a new engagement in the lives of others , a new activism , hands - on and involved , that gets the job done . We must bring in the generations , harnessing the unused talent of the elderly and the unfocused energy of the young . For not only leadership is passed from generation to generation , but so is stewardship . And the generation born after the Second World War has come of age .\n",
      "I have spoken of a thousand points of light , of all the community organizations that are spread like stars throughout the Nation , doing good . We will work hand in hand , encouraging , sometimes leading , sometimes being led , rewarding . We will work on this in the White House , in the Cabinet agencies . I will go to the people and the programs that are the brighter points of light , and I will ask every member of my government to become involved . The old ideas are new again because they are not old , they are timeless : duty , sacrifice , commitment , and a patriotism that finds its expression in taking part and pitching in .\n",
      "We need a new engagement , too , between the Executive and the Congress . The challenges before us will be thrashed out with the House and the Senate . We must bring the Federal budget into balance . And we must ensure that America stands before the world united , strong , at peace , and fiscally sound . But , of course , things may be difficult . We need compromise ; we have had dissension . We need harmony ; we have had a chorus of discordant voices .\n",
      "For Congress , too , has changed in our time . There has grown a certain divisiveness . We have seen the hard looks and heard the statements in which not each other ' s ideas are challenged , but each other ' s motives . And our great parties have too often been far apart and untrusting of each other . It has been this way since Vietnam . That war cleaves us still . But , friends , that war began in earnest a quarter of a century ago ; and surely the statute of limitations has been reached . This is a fact : The final lesson of Vietnam is that no great nation can long afford to be sundered by a memory . A new breeze is blowing , and the old bipartisanship must be made new again .\n",
      "To my friends -- and yes , I do mean friends -- in the loyal opposition -- and yes , I mean loyal : I put out my hand . I am putting out my hand to you , Mr . Speaker . I am putting out my hand to you Mr . Majority Leader . For this is the thing : This is the age of the offered hand . We can ' t turn back clocks , and I don ' t want to . But when our fathers were young , Mr . Speaker , our differences ended at the water ' s edge . And we don ' t wish to turn back time , but when our mothers were young , Mr . Majority Leader , the Congress and the Executive were capable of working together to produce a budget on which this nation could live . Let us negotiate soon and hard . But in the end , let us produce . The American people await action . They didn ' t send us here to bicker . They ask us to rise above the merely partisan . \" In crucial things , unity \" -- and this , my friends , is crucial .\n",
      "...\n",
      "\n",
      "Speaker: President Bush, 79 paragraphs\n",
      "\n"
     ]
    }
   ],
   "source": [
    "speeches_b: list[list[Para2dStr]] = [\n",
    "    inaugural.paras(file_id)\n",
    "    for file_id in inaugural.fileids()\n",
    "    if PRESIDENT_B in file_id\n",
    "]\n",
    "\n",
    "paras_b: list[Para2dStr] = [para for paras in speeches_b for para in paras]\n",
    "\n",
    "for para in paras_b[:20]:\n",
    "    print(dim_reshaper.two_dim_to_str(para))\n",
    "\n",
    "print(f\"...\\n\\nSpeaker: President {PRESIDENT_B}, {len(paras_b)} paragraphs\\n\")"
   ]
  },
  {
   "cell_type": "code",
   "execution_count": 11,
   "metadata": {},
   "outputs": [
    {
     "name": "stdout",
     "output_type": "stream",
     "text": [
      "total: 145 samples (paragraphs)\n"
     ]
    }
   ],
   "source": [
    "print(f\"total: {len(paras_a + paras_b)} samples (paragraphs)\")"
   ]
  },
  {
   "cell_type": "code",
   "execution_count": 12,
   "metadata": {},
   "outputs": [
    {
     "name": "stdout",
     "output_type": "stream",
     "text": [
      "+---------------+------------------+-------------------+------------------+----------+----------+-----------+-----------+----------+----------+----------+----------+--------------+------------+-----------+-----------+-----------+-----------+-----------+------------+-----------+-------------+-----------+-----------+-----------+------------+------------+------------+-----------+-----------+-----------+-----------+-----------+-----------+-----------+-----------+-----------+-----------+-----------+-----------+-----------+-----------+-----------+-----------+-----------+-----------+-----------+-----------+-----------+-----------+-----------+-----------+-----------+-----------+-----------+-----------+-----------+-----------+-----------+-----------+-----------+-----------+-----------+-----------+-----------+-----------+-----------+-----------+-----------+-----------+-----------+-----------+-----------+-----------+-----------+-----------+-----------+-----------+-----------+-----------+-----------+-----------+-----------+-----------+-----------+-----------+-----------+-----------+-----------+-----------+-----------+-----------+-----------+-----------+-----------+-----------+-----------+-----------+-----------+-----------+-----------+-----------+\n",
      "| Author name   |   Document index |   Paragraph index |   Sentence index | Word 1   | Word 2   | Word 3    | Word 4    | Word 5   | Word 6   | Word 7   | Word 8   | Word 9       | Word 10    | Word 11   | Word 12   | Word 13   | Word 14   | Word 15   | Word 16    | Word 17   | Word 18     | Word 19   | Word 20   | Word 21   | Word 22    | Word 23    | Word 24    | Word 25   | Word 26   | Word 27   | Word 28   | Word 29   | Word 30   | Word 31   | Word 32   | Word 33   | Word 34   | Word 35   | Word 36   | Word 37   | Word 38   | Word 39   | Word 40   | Word 41   | Word 42   | Word 43   | Word 44   | Word 45   | Word 46   | Word 47   | Word 48   | Word 49   | Word 50   | Word 51   | Word 52   | Word 53   | Word 54   | Word 55   | Word 56   | Word 57   | Word 58   | Word 59   | Word 60   | Word 61   | Word 62   | Word 63   | Word 64   | Word 65   | Word 66   | Word 67   | Word 68   | Word 69   | Word 70   | Word 71   | Word 72   | Word 73   | Word 74   | Word 75   | Word 76   | Word 77   | Word 78   | Word 79   | Word 80   | Word 81   | Word 82   | Word 83   | Word 84   | Word 85   | Word 86   | Word 87   | Word 88   | Word 89   | Word 90   | Word 91   | Word 92   | Word 93   | Word 94   | Word 95   | Word 96   | Word 97   | Word 98   |\n",
      "|---------------+------------------+-------------------+------------------+----------+----------+-----------+-----------+----------+----------+----------+----------+--------------+------------+-----------+-----------+-----------+-----------+-----------+------------+-----------+-------------+-----------+-----------+-----------+------------+------------+------------+-----------+-----------+-----------+-----------+-----------+-----------+-----------+-----------+-----------+-----------+-----------+-----------+-----------+-----------+-----------+-----------+-----------+-----------+-----------+-----------+-----------+-----------+-----------+-----------+-----------+-----------+-----------+-----------+-----------+-----------+-----------+-----------+-----------+-----------+-----------+-----------+-----------+-----------+-----------+-----------+-----------+-----------+-----------+-----------+-----------+-----------+-----------+-----------+-----------+-----------+-----------+-----------+-----------+-----------+-----------+-----------+-----------+-----------+-----------+-----------+-----------+-----------+-----------+-----------+-----------+-----------+-----------+-----------+-----------+-----------+-----------+-----------+-----------+-----------|\n",
      "| Obama         |                0 |                 0 |                0 | My       | fellow   | citizens  | :         |          |          |          |          |              |            |           |           |           |           |           |            |           |             |           |           |           |            |            |            |           |           |           |           |           |           |           |           |           |           |           |           |           |           |           |           |           |           |           |           |           |           |           |           |           |           |           |           |           |           |           |           |           |           |           |           |           |           |           |           |           |           |           |           |           |           |           |           |           |           |           |           |           |           |           |           |           |           |           |           |           |           |           |           |           |           |           |           |           |           |           |           |           |           |\n",
      "| Obama         |                0 |                 1 |                0 | I        | stand    | here      | today     | humbled  | by       | the      | task     | before       | us         | ,         | grateful  | for       | the       | trust     | you        | have      | bestowed    | ,         | mindful   | of        | the        | sacrifices | borne      | by        | our       | ancestors | .         |           |           |           |           |           |           |           |           |           |           |           |           |           |           |           |           |           |           |           |           |           |           |           |           |           |           |           |           |           |           |           |           |           |           |           |           |           |           |           |           |           |           |           |           |           |           |           |           |           |           |           |           |           |           |           |           |           |           |           |           |           |           |           |           |           |           |           |           |           |           |\n",
      "| Obama         |                0 |                 1 |                1 | I        | thank    | President | Bush      | for      | his      | service  | to       | our          | nation     | ,         | as        | well      | as        | the       | generosity | and       | cooperation | he        | has       | shown     | throughout | this       | transition | .         |           |           |           |           |           |           |           |           |           |           |           |           |           |           |           |           |           |           |           |           |           |           |           |           |           |           |           |           |           |           |           |           |           |           |           |           |           |           |           |           |           |           |           |           |           |           |           |           |           |           |           |           |           |           |           |           |           |           |           |           |           |           |           |           |           |           |           |           |           |           |           |           |           |\n",
      "| Obama         |                0 |                 2 |                0 | Forty    | -        | four      | Americans | have     | now      | taken    | the      | presidential | oath       | .         |           |           |           |           |            |           |             |           |           |           |            |            |            |           |           |           |           |           |           |           |           |           |           |           |           |           |           |           |           |           |           |           |           |           |           |           |           |           |           |           |           |           |           |           |           |           |           |           |           |           |           |           |           |           |           |           |           |           |           |           |           |           |           |           |           |           |           |           |           |           |           |           |           |           |           |           |           |           |           |           |           |           |           |           |           |           |           |\n",
      "| Obama         |                0 |                 2 |                1 | The      | words    | have      | been      | spoken   | during   | rising   | tides    | of           | prosperity | and       | the       | still     | waters    | of        | peace      | .         |             |           |           |           |            |            |            |           |           |           |           |           |           |           |           |           |           |           |           |           |           |           |           |           |           |           |           |           |           |           |           |           |           |           |           |           |           |           |           |           |           |           |           |           |           |           |           |           |           |           |           |           |           |           |           |           |           |           |           |           |           |           |           |           |           |           |           |           |           |           |           |           |           |           |           |           |           |           |           |           |           |\n",
      "+---------------+------------------+-------------------+------------------+----------+----------+-----------+-----------+----------+----------+----------+----------+--------------+------------+-----------+-----------+-----------+-----------+-----------+------------+-----------+-------------+-----------+-----------+-----------+------------+------------+------------+-----------+-----------+-----------+-----------+-----------+-----------+-----------+-----------+-----------+-----------+-----------+-----------+-----------+-----------+-----------+-----------+-----------+-----------+-----------+-----------+-----------+-----------+-----------+-----------+-----------+-----------+-----------+-----------+-----------+-----------+-----------+-----------+-----------+-----------+-----------+-----------+-----------+-----------+-----------+-----------+-----------+-----------+-----------+-----------+-----------+-----------+-----------+-----------+-----------+-----------+-----------+-----------+-----------+-----------+-----------+-----------+-----------+-----------+-----------+-----------+-----------+-----------+-----------+-----------+-----------+-----------+-----------+-----------+-----------+-----------+-----------+-----------+-----------+-----------+\n",
      "+---------------+------------------+-------------------+------------------+-----------+----------+----------+----------+----------+----------+----------+------------+----------+-----------+-----------+-----------+------------+-----------+-----------+-----------+-----------+-----------+-----------+--------------+--------------+-----------+-------------+-----------+------------+-----------+-----------+-----------+-----------+-----------+-----------+-----------+-----------+-----------+-----------+-----------+-----------+-----------+-----------+-----------+-----------+-----------+-----------+-----------+-----------+-----------+-----------+-----------+-----------+-----------+-----------+-----------+-----------+-----------+-----------+-----------+-----------+-----------+-----------+-----------+-----------+-----------+-----------+-----------+-----------+-----------+-----------+-----------+\n",
      "| Author name   |   Document index |   Paragraph index |   Sentence index | Word 1    | Word 2   | Word 3   | Word 4   | Word 5   | Word 6   | Word 7   | Word 8     | Word 9   | Word 10   | Word 11   | Word 12   | Word 13    | Word 14   | Word 15   | Word 16   | Word 17   | Word 18   | Word 19   | Word 20      | Word 21      | Word 22   | Word 23     | Word 24   | Word 25    | Word 26   | Word 27   | Word 28   | Word 29   | Word 30   | Word 31   | Word 32   | Word 33   | Word 34   | Word 35   | Word 36   | Word 37   | Word 38   | Word 39   | Word 40   | Word 41   | Word 42   | Word 43   | Word 44   | Word 45   | Word 46   | Word 47   | Word 48   | Word 49   | Word 50   | Word 51   | Word 52   | Word 53   | Word 54   | Word 55   | Word 56   | Word 57   | Word 58   | Word 59   | Word 60   | Word 61   | Word 62   | Word 63   | Word 64   | Word 65   | Word 66   | Word 67   | Word 68   |\n",
      "|---------------+------------------+-------------------+------------------+-----------+----------+----------+----------+----------+----------+----------+------------+----------+-----------+-----------+-----------+------------+-----------+-----------+-----------+-----------+-----------+-----------+--------------+--------------+-----------+-------------+-----------+------------+-----------+-----------+-----------+-----------+-----------+-----------+-----------+-----------+-----------+-----------+-----------+-----------+-----------+-----------+-----------+-----------+-----------+-----------+-----------+-----------+-----------+-----------+-----------+-----------+-----------+-----------+-----------+-----------+-----------+-----------+-----------+-----------+-----------+-----------+-----------+-----------+-----------+-----------+-----------+-----------+-----------+-----------+-----------|\n",
      "| Bush          |                0 |                 0 |                0 | Mr        | .        | Chief    | Justice  | ,        | Mr       | .        | President  | ,        | Vice      | President | Quayle    | ,          | Senator   | Mitchell  | ,         | Speaker   | Wright    | ,         | Senator      | Dole         | ,         | Congressman | Michael   | ,          | and       | fellow    | citizens  | ,         | neighbors | ,         | and       | friends   | :         |           |           |           |           |           |           |           |           |           |           |           |           |           |           |           |           |           |           |           |           |           |           |           |           |           |           |           |           |           |           |           |           |           |           |\n",
      "| Bush          |                0 |                 1 |                0 | There     | is       | a        | man      | here     | who      | has      | earned     | a        | lasting   | place     | in        | our        | hearts    | and       | in        | our       | history   | .         |              |              |           |             |           |            |           |           |           |           |           |           |           |           |           |           |           |           |           |           |           |           |           |           |           |           |           |           |           |           |           |           |           |           |           |           |           |           |           |           |           |           |           |           |           |           |           |           |           |\n",
      "| Bush          |                0 |                 1 |                1 | President | Reagan   | ,        | on       | behalf   | of       | our      | Nation     | ,        | I         | thank     | you       | for        | the       | wonderful | things    | that      | you       | have      | done         | for          | America   | .           |           |            |           |           |           |           |           |           |           |           |           |           |           |           |           |           |           |           |           |           |           |           |           |           |           |           |           |           |           |           |           |           |           |           |           |           |           |           |           |           |           |           |           |           |           |\n",
      "| Bush          |                0 |                 2 |                0 | I         | have     | just     | repeated | word     | for      | word     | the        | oath     | taken     | by        | George    | Washington | 200       | years     | ago       | ,         | and       | the       | Bible        | on           | which     | I           | placed    | my         | hand      | is        | the       | Bible     | on        | which     | he        | placed    | his       | .         |           |           |           |           |           |           |           |           |           |           |           |           |           |           |           |           |           |           |           |           |           |           |           |           |           |           |           |           |           |           |           |           |           |\n",
      "| Bush          |                0 |                 2 |                1 | It        | is       | right    | that     | the      | memory   | of       | Washington | be       | with      | us        | today     | ,          | not       | only      | because   | this      | is        | our       | Bicentennial | Inauguration | ,         | but         | because   | Washington | remains   | the       | Father    | of        | our       | Country   | .         |           |           |           |           |           |           |           |           |           |           |           |           |           |           |           |           |           |           |           |           |           |           |           |           |           |           |           |           |           |           |           |           |           |           |           |           |\n",
      "+---------------+------------------+-------------------+------------------+-----------+----------+----------+----------+----------+----------+----------+------------+----------+-----------+-----------+-----------+------------+-----------+-----------+-----------+-----------+-----------+-----------+--------------+--------------+-----------+-------------+-----------+------------+-----------+-----------+-----------+-----------+-----------+-----------+-----------+-----------+-----------+-----------+-----------+-----------+-----------+-----------+-----------+-----------+-----------+-----------+-----------+-----------+-----------+-----------+-----------+-----------+-----------+-----------+-----------+-----------+-----------+-----------+-----------+-----------+-----------+-----------+-----------+-----------+-----------+-----------+-----------+-----------+-----------+-----------+-----------+\n"
     ]
    }
   ],
   "source": [
    "from authorship_tool.util.serializer import author_collection_to_csv\n",
    "\n",
    "\n",
    "author_collection_to_csv(speeches_a, PRESIDENT_A, output_path)\n",
    "author_collection_to_csv(speeches_b, PRESIDENT_B, output_path)"
   ]
  }
 ],
 "metadata": {
  "kernelspec": {
   "display_name": ".venv",
   "language": "python",
   "name": "python3"
  },
  "language_info": {
   "codemirror_mode": {
    "name": "ipython",
    "version": 3
   },
   "file_extension": ".py",
   "mimetype": "text/x-python",
   "name": "python",
   "nbconvert_exporter": "python",
   "pygments_lexer": "ipython3",
   "version": "3.11.7"
  }
 },
 "nbformat": 4,
 "nbformat_minor": 2
}
