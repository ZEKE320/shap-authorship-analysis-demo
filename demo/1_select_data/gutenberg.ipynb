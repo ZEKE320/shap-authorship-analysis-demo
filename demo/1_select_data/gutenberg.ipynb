{
 "cells": [
  {
   "cell_type": "code",
   "execution_count": null,
   "metadata": {},
   "outputs": [],
   "source": [
    "import nltk\n",
    "\n",
    "# 必要に応じてダウンロード\n",
    "\n",
    "nltk.download(\"gutenberg\")"
   ]
  },
  {
   "cell_type": "code",
   "execution_count": null,
   "metadata": {},
   "outputs": [],
   "source": [
    "import re\n",
    "from typing import Final, TypeAlias\n",
    "\n",
    "import numpy as np\n",
    "import pandas as pd\n",
    "from nltk.corpus import gutenberg\n",
    "\n",
    "from authorship_tool.types import Para2dStr\n",
    "from authorship_tool.util import dim_reshaper, type_guard"
   ]
  },
  {
   "cell_type": "code",
   "execution_count": null,
   "metadata": {},
   "outputs": [],
   "source": [
    "np.seterr(divide=\"call\")"
   ]
  },
  {
   "cell_type": "code",
   "execution_count": null,
   "metadata": {},
   "outputs": [],
   "source": [
    "pd.set_option(\"display.max_columns\", None)\n",
    "pd.set_option(\"display.max_rows\", None)"
   ]
  },
  {
   "cell_type": "code",
   "execution_count": null,
   "metadata": {},
   "outputs": [],
   "source": [
    "for idx, file_id in enumerate(gutenberg.fileids()):\n",
    "    print(f\"#{idx+1}\\t{file_id}\")"
   ]
  },
  {
   "cell_type": "code",
   "execution_count": null,
   "metadata": {},
   "outputs": [],
   "source": [
    "Author: TypeAlias = str\n",
    "NumOfParas: TypeAlias = int\n",
    "\n",
    "authors: set[Author] = {\n",
    "    match.group(1)\n",
    "    for file_id in gutenberg.fileids()\n",
    "    if (match := re.search(r\"^(.+?)-\", file_id)) is not None\n",
    "}\n",
    "\n",
    "para_size_by_author: dict[Author, NumOfParas] = {}\n",
    "\n",
    "for index, author in enumerate(authors):\n",
    "    books_of_author: list[list[Para2dStr]] = [\n",
    "        gutenberg.paras(fileids=file_id)\n",
    "        for file_id in gutenberg.fileids()\n",
    "        if author in file_id\n",
    "    ]  # type: ignore\n",
    "\n",
    "    para_num: NumOfParas = len([para for paras in books_of_author for para in paras])\n",
    "    para_size_by_author[author] = para_num\n",
    "\n",
    "sorted_para_size_by_author: dict[Author, NumOfParas] = dict(\n",
    "    sorted(para_size_by_author.items(), key=lambda item: item[1], reverse=True)\n",
    ")\n",
    "\n",
    "for idx, item in enumerate(sorted_para_size_by_author.items()):\n",
    "    print(f\"{idx + 1}:\\t{item[0]} - {item[1]} paragraphs\")"
   ]
  },
  {
   "cell_type": "code",
   "execution_count": null,
   "metadata": {},
   "outputs": [],
   "source": [
    "AUTHOR_A: Final[str] = \"chesterton\"\n",
    "AUTHOR_B: Final[str] = \"bryant\""
   ]
  },
  {
   "cell_type": "code",
   "execution_count": null,
   "metadata": {},
   "outputs": [],
   "source": [
    "books_a: list[list[Para2dStr]] = [\n",
    "    gutenberg.paras(fileids=file_id)\n",
    "    for file_id in gutenberg.fileids()\n",
    "    if AUTHOR_A in file_id\n",
    "]  # type: ignore\n",
    "\n",
    "paras_a: list[Para2dStr] = [para for paras in books_a for para in paras]\n",
    "if len(paras_a) == 0 or not type_guard.are_paras(paras_a):\n",
    "    raise ValueError(\"paras_a is empty or not list[Para]\")\n",
    "\n",
    "for para in paras_a[:20]:\n",
    "    print(dim_reshaper.two_dim_to_str(para))\n",
    "\n",
    "print(f\"...\\n\\nAuthor: {AUTHOR_A}, {len(paras_a)} paragraphs\\n\")"
   ]
  },
  {
   "cell_type": "code",
   "execution_count": null,
   "metadata": {},
   "outputs": [],
   "source": [
    "books_b: list[list[Para2dStr]] = [\n",
    "    gutenberg.paras(fileids=file_id)\n",
    "    for file_id in gutenberg.fileids()\n",
    "    if AUTHOR_B in file_id\n",
    "]  # type: ignore\n",
    "\n",
    "paras_b: list[Para2dStr] = [para for paras in books_b for para in paras]\n",
    "if len(paras_b) == 0 or not type_guard.are_paras(paras_b):\n",
    "    raise ValueError(\"paras_a is empty or not list[list[str]]\")\n",
    "\n",
    "for para in paras_b[:20]:\n",
    "    print(dim_reshaper.two_dim_to_str(para))\n",
    "\n",
    "print(f\"...\\n\\nAuthor: {AUTHOR_B}, {len(paras_b)} paragraphs\\n\")"
   ]
  },
  {
   "cell_type": "code",
   "execution_count": null,
   "metadata": {},
   "outputs": [],
   "source": [
    "print(f\"total: {len(paras_a + paras_b)} paragraphs (samples)\")"
   ]
  }
 ],
 "metadata": {
  "kernelspec": {
   "display_name": ".venv",
   "language": "python",
   "name": "python3"
  },
  "language_info": {
   "name": "python",
   "version": "3.11.7"
  }
 },
 "nbformat": 4,
 "nbformat_minor": 2
}
