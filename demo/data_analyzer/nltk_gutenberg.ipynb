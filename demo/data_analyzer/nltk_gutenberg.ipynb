{
 "cells": [
  {
   "cell_type": "code",
   "execution_count": 1,
   "metadata": {},
   "outputs": [],
   "source": [
    "%load_ext autoreload\n",
    "%autoreload 2"
   ]
  },
  {
   "cell_type": "code",
   "execution_count": 2,
   "metadata": {},
   "outputs": [
    {
     "name": "stderr",
     "output_type": "stream",
     "text": [
      "[nltk_data] Downloading package gutenberg to /home/vscode/nltk_data...\n",
      "[nltk_data]   Package gutenberg is already up-to-date!\n"
     ]
    },
    {
     "data": {
      "text/plain": [
       "True"
      ]
     },
     "execution_count": 2,
     "metadata": {},
     "output_type": "execute_result"
    }
   ],
   "source": [
    "import nltk\n",
    "\n",
    "nltk.download(\"gutenberg\")"
   ]
  },
  {
   "cell_type": "code",
   "execution_count": 51,
   "metadata": {},
   "outputs": [],
   "source": [
    "import re\n",
    "from typing import Final, Sequence, TypeAlias\n",
    "\n",
    "import numpy as np\n",
    "import pandas as pd\n",
    "from IPython.display import display\n",
    "from nltk.corpus import gutenberg\n",
    "from pandas import DataFrame\n",
    "\n",
    "from authorship_tool.types_ import AuthorColl4dStr, Doc3dStr, Para2dStr, Tag\n",
    "from authorship_tool.util import dim_reshaper\n",
    "from authorship_tool.util.feature.dataset_generator import (\n",
    "    ParagraphFeatureDatasetGenerator,\n",
    ")\n",
    "from authorship_tool.util.feature.pos import PosFeature\n",
    "from authorship_tool.util.ml import trainer as trainer"
   ]
  },
  {
   "cell_type": "code",
   "execution_count": 4,
   "metadata": {},
   "outputs": [],
   "source": [
    "np.seterr(divide=\"call\")\n",
    "pd.set_option(\"display.max_columns\", None)\n",
    "pd.set_option(\"display.max_rows\", None)"
   ]
  },
  {
   "cell_type": "code",
   "execution_count": 5,
   "metadata": {},
   "outputs": [
    {
     "name": "stdout",
     "output_type": "stream",
     "text": [
      "#1\tausten-emma.txt\n",
      "#2\tausten-persuasion.txt\n",
      "#3\tausten-sense.txt\n",
      "#4\tbible-kjv.txt\n",
      "#5\tblake-poems.txt\n",
      "#6\tbryant-stories.txt\n",
      "#7\tburgess-busterbrown.txt\n",
      "#8\tcarroll-alice.txt\n",
      "#9\tchesterton-ball.txt\n",
      "#10\tchesterton-brown.txt\n",
      "#11\tchesterton-thursday.txt\n",
      "#12\tedgeworth-parents.txt\n",
      "#13\tmelville-moby_dick.txt\n",
      "#14\tmilton-paradise.txt\n",
      "#15\tshakespeare-caesar.txt\n",
      "#16\tshakespeare-hamlet.txt\n",
      "#17\tshakespeare-macbeth.txt\n",
      "#18\twhitman-leaves.txt\n"
     ]
    }
   ],
   "source": [
    "for idx, file_id in enumerate(iterable=gutenberg.fileids()):\n",
    "    print(f\"#{idx+1}\\t{file_id}\")"
   ]
  },
  {
   "cell_type": "code",
   "execution_count": 6,
   "metadata": {},
   "outputs": [
    {
     "name": "stdout",
     "output_type": "stream",
     "text": [
      "1:\tbible - 24608 paragraphs\n",
      "2:\tausten - 5265 paragraphs\n",
      "3:\tchesterton - 4055 paragraphs\n",
      "4:\tedgeworth - 3726 paragraphs\n",
      "5:\tmelville - 2793 paragraphs\n",
      "6:\twhitman - 2478 paragraphs\n",
      "7:\tshakespeare - 2372 paragraphs\n",
      "8:\tbryant - 1194 paragraphs\n",
      "9:\tcarroll - 817 paragraphs\n",
      "10:\tblake - 284 paragraphs\n",
      "11:\tburgess - 266 paragraphs\n",
      "12:\tmilton - 29 paragraphs\n"
     ]
    }
   ],
   "source": [
    "Author: TypeAlias = str\n",
    "NumOfParas: TypeAlias = int\n",
    "\n",
    "authors: set[Author] = {\n",
    "    match.group(1)\n",
    "    for file_id in gutenberg.fileids()\n",
    "    if (match := re.search(r\"^(.+?)-\", file_id)) is not None\n",
    "}\n",
    "\n",
    "para_size_by_author: dict[Author, NumOfParas] = {}\n",
    "\n",
    "for index, author in enumerate(authors):\n",
    "    books_of_author: AuthorColl4dStr = [\n",
    "        gutenberg.paras(fileids=file_id)\n",
    "        for file_id in gutenberg.fileids()\n",
    "        if author in file_id\n",
    "    ]\n",
    "\n",
    "    para_num: NumOfParas = len([para for paras in books_of_author for para in paras])\n",
    "    para_size_by_author[author] = para_num\n",
    "\n",
    "sorted_para_size_by_author: dict[Author, NumOfParas] = dict(\n",
    "    sorted(para_size_by_author.items(), key=lambda item: item[1], reverse=True)\n",
    ")\n",
    "\n",
    "for idx, item in enumerate(sorted_para_size_by_author.items()):\n",
    "    print(f\"{idx + 1}:\\t{item[0]} - {item[1]} paragraphs\")"
   ]
  },
  {
   "cell_type": "code",
   "execution_count": 514,
   "metadata": {},
   "outputs": [],
   "source": [
    "AUTHOR_A: Final[str] = \"bible\"\n",
    "AUTHOR_B: Final[str] = \"bryant\"\n",
    "PARAGRAPH_INIT_INDEX: Final[int] = 10\n",
    "PARAGRAPH_END_INDEX: Final[int] = 1194"
   ]
  },
  {
   "cell_type": "code",
   "execution_count": 515,
   "metadata": {},
   "outputs": [
    {
     "name": "stdout",
     "output_type": "stream",
     "text": [
      "1 : 8 And God called the firmament Heaven . And the evening and the morning were the second day .\n",
      "1 : 9 And God said , Let the waters under the heaven be gathered together unto one place , and let the dry land appear : and it was so .\n",
      "1 : 10 And God called the dry land Earth ; and the gathering together of the waters called he Seas : and God saw that it was good .\n",
      "1 : 11 And God said , Let the earth bring forth grass , the herb yielding seed , and the fruit tree yielding fruit after his kind , whose seed is in itself , upon the earth : and it was so .\n",
      "1 : 12 And the earth brought forth grass , and herb yielding seed after his kind , and the tree yielding fruit , whose seed was in itself , after his kind : and God saw that it was good .\n",
      "1 : 13 And the evening and the morning were the third day .\n",
      "1 : 14 And God said , Let there be lights in the firmament of the heaven to divide the day from the night ; and let them be for signs , and for seasons , and for days , and years : 1 : 15 And let them be for lights in the firmament of the heaven to give light upon the earth : and it was so .\n",
      "1 : 16 And God made two great lights ; the greater light to rule the day , and the lesser light to rule the night : he made the stars also .\n",
      "1 : 17 And God set them in the firmament of the heaven to give light upon the earth , 1 : 18 And to rule over the day and over the night , and to divide the light from the darkness : and God saw that it was good .\n",
      "1 : 19 And the evening and the morning were the fourth day .\n",
      "1 : 20 And God said , Let the waters bring forth abundantly the moving creature that hath life , and fowl that may fly above the earth in the open firmament of heaven .\n",
      "1 : 21 And God created great whales , and every living creature that moveth , which the waters brought forth abundantly , after their kind , and every winged fowl after his kind : and God saw that it was good .\n",
      "1 : 22 And God blessed them , saying , Be fruitful , and multiply , and fill the waters in the seas , and let fowl multiply in the earth .\n",
      "1 : 23 And the evening and the morning were the fifth day .\n",
      "1 : 24 And God said , Let the earth bring forth the living creature after his kind , cattle , and creeping thing , and beast of the earth after his kind : and it was so .\n",
      "1 : 25 And God made the beast of the earth after his kind , and cattle after their kind , and every thing that creepeth upon the earth after his kind : and God saw that it was good .\n",
      "1 : 26 And God said , Let us make man in our image , after our likeness : and let them have dominion over the fish of the sea , and over the fowl of the air , and over the cattle , and over all the earth , and over every creeping thing that creepeth upon the earth .\n",
      "1 : 27 So God created man in his own image , in the image of God created he him ; male and female created he them .\n",
      "1 : 28 And God blessed them , and God said unto them , Be fruitful , and multiply , and replenish the earth , and subdue it : and have dominion over the fish of the sea , and over the fowl of the air , and over every living thing that moveth upon the earth .\n",
      "1 : 29 And God said , Behold , I have given you every herb bearing seed , which is upon the face of all the earth , and every tree , in the which is the fruit of a tree yielding seed ; to you it shall be for meat .\n",
      "...\n",
      "\n",
      "Author: bible, 1184 paragraphs\n",
      "\n"
     ]
    }
   ],
   "source": [
    "books_a: AuthorColl4dStr = [\n",
    "    gutenberg.paras(fileids=file_id)\n",
    "    for file_id in gutenberg.fileids()\n",
    "    if AUTHOR_A in file_id\n",
    "]\n",
    "\n",
    "paras_a: Doc3dStr = [para for paras in books_a for para in paras][\n",
    "    PARAGRAPH_INIT_INDEX:PARAGRAPH_END_INDEX\n",
    "]\n",
    "\n",
    "for para in paras_a[:20]:\n",
    "    print(dim_reshaper.two_dim_to_str(para))\n",
    "\n",
    "print(f\"...\\n\\nAuthor: {AUTHOR_A}, {len(paras_a)} paragraphs\\n\")"
   ]
  },
  {
   "cell_type": "code",
   "execution_count": 516,
   "metadata": {},
   "outputs": [
    {
     "name": "stdout",
     "output_type": "stream",
     "text": [
      "\" Who is there ?\" she said .\n",
      "The same soft little voice answered , \" It ' s the Rain , and I want to come in !\"\n",
      "\" No , you can ' t come in ,\" said the little Tulip .\n",
      "Then it was very still for a long time . At last , there came a little rustling , whispering sound , all round the window : _rustle , whisper , whisper_ .\n",
      "\" Who is there ?\" said the little Tulip .\n",
      "\" It ' s the Sunshine ,\" said a little , soft , cheery voice , \" and I want to come in !\"\n",
      "\" N -- no ,\" said the little Tulip , \" you can ' t come in .\" And she sat still again .\n",
      "Pretty soon she heard the sweet little rustling noise at the keyhole .\n",
      "\" Who is there ?\" she said .\n",
      "\" It ' s the Sunshine ,\" said the cheery little voice , \" and I want to come in , I want to come in !\"\n",
      "\" No , no ,\" said the little Tulip , \" you cannot come in .\"\n",
      "By and by , as she sat so still , she heard _tap , tap , tap_ , and _rustle , whisper , rustle_ , up and down the window - pane , and on the door and at the keyhole .\n",
      "\" _Who is there ? _ \" she said .\n",
      "\" It ' s the Rain and the Sun , the Rain and the Sun ,\" said two little voices , together , \" and we want to come in ! We want to come in ! We want to come in !\"\n",
      "\" Dear , dear !\" said the little Tulip , \" if there are two of you , I s ' pose I shall have to let you in .\"\n",
      "So she opened the door a little wee crack , and in they came . And one took one of her little hands , and the other took her other little hand , and they ran , ran , ran with her right up to the top of the ground . Then they said ,--\n",
      "\" Poke your head through !\"\n",
      "So she poked her head through ; and she was in the midst of a beautiful garden . It was early springtime , and few other flowers were to be seen ; but she had the birds to sing to her and the sun to shine upon her pretty yellow head . She was so pleased , too , when the children exclaimed with pleasure that now they knew that the beautiful spring had come !\n",
      "THE COCK - A - DOO - DLE - DOO\n",
      "A very little boy made this story up \" out of his head ,\" and told it to his papa . I think you littlest ones will like it ; I do .\n",
      "...\n",
      "\n",
      "Author: bryant, 1184 paragraphs\n",
      "\n"
     ]
    }
   ],
   "source": [
    "books_b: AuthorColl4dStr = [\n",
    "    gutenberg.paras(fileids=file_id)\n",
    "    for file_id in gutenberg.fileids()\n",
    "    if AUTHOR_B in file_id\n",
    "]\n",
    "\n",
    "paras_b: Doc3dStr = [para for paras in books_b for para in paras][\n",
    "    PARAGRAPH_INIT_INDEX:PARAGRAPH_END_INDEX\n",
    "]\n",
    "\n",
    "for para in paras_b[:20]:\n",
    "    print(dim_reshaper.two_dim_to_str(para))\n",
    "\n",
    "print(f\"...\\n\\nAuthor: {AUTHOR_B}, {len(paras_b)} paragraphs\\n\")"
   ]
  },
  {
   "cell_type": "code",
   "execution_count": 517,
   "metadata": {},
   "outputs": [
    {
     "name": "stdout",
     "output_type": "stream",
     "text": [
      "total: 2368 paragraphs (samples)\n"
     ]
    }
   ],
   "source": [
    "print(f\"total: {len(paras_a + paras_b)} paragraphs (samples)\")"
   ]
  },
  {
   "cell_type": "code",
   "execution_count": 518,
   "metadata": {},
   "outputs": [
    {
     "name": "stdout",
     "output_type": "stream",
     "text": [
      "[\"''\", '(', ')', ',', '.', ':', 'CC', 'CD', 'DT', 'EX', 'FW', 'IN', 'JJ', 'JJR', 'JJS', 'JJ_exp', 'JJ_lim', 'JJ_pp', 'JJ_presp', 'MD', 'NN', 'NNP', 'NNPS', 'NNS', 'PDT', 'POS', 'PRP', 'PRP$', 'RB', 'RBR', 'RBS', 'RP', 'SYM', 'TO', 'UH', 'VB', 'VBD', 'VBG', 'VBN', 'VBP', 'VBZ', 'WDT', 'WP', 'WP$', 'WRB']\n"
     ]
    }
   ],
   "source": [
    "all_paras: list[Para2dStr] = paras_a + paras_b\n",
    "\n",
    "all_pos: list[Tag] = PosFeature(all_paras).tag_subcategories().all_pos\n",
    "\n",
    "print(all_pos)"
   ]
  },
  {
   "cell_type": "code",
   "execution_count": 519,
   "metadata": {},
   "outputs": [],
   "source": [
    "dataset_generator = ParagraphFeatureDatasetGenerator(tags=all_pos)"
   ]
  },
  {
   "cell_type": "code",
   "execution_count": 520,
   "metadata": {},
   "outputs": [],
   "source": [
    "para_ans_pairs: Sequence[tuple[Para2dStr, bool]] = [\n",
    "    (para, True) for para in paras_a\n",
    "] + [(para, False) for para in paras_b]"
   ]
  },
  {
   "cell_type": "code",
   "execution_count": 521,
   "metadata": {},
   "outputs": [],
   "source": [
    "dataset_list: list[pd.Series] = [\n",
    "    dataset_generator.generate_from_paragraph(para, answer)\n",
    "    for para, answer in para_ans_pairs\n",
    "]"
   ]
  },
  {
   "cell_type": "code",
   "execution_count": 522,
   "metadata": {},
   "outputs": [],
   "source": [
    "datasets: DataFrame = pd.concat(dataset_list, axis=1).reset_index(drop=True).T"
   ]
  },
  {
   "cell_type": "code",
   "execution_count": 523,
   "metadata": {},
   "outputs": [],
   "source": [
    "datasets.columns = (*dataset_generator.columns, \"answer\")\n",
    "for col, dtype in zip(\n",
    "    datasets.columns,\n",
    "    dataset_generator.dtypes + [bool],\n",
    "    strict=True,\n",
    "):\n",
    "    datasets[col] = datasets[col].astype(dtype)"
   ]
  },
  {
   "cell_type": "code",
   "execution_count": 524,
   "metadata": {},
   "outputs": [
    {
     "data": {
      "text/html": [
       "<div>\n",
       "<style scoped>\n",
       "    .dataframe tbody tr th:only-of-type {\n",
       "        vertical-align: middle;\n",
       "    }\n",
       "\n",
       "    .dataframe tbody tr th {\n",
       "        vertical-align: top;\n",
       "    }\n",
       "\n",
       "    .dataframe thead th {\n",
       "        text-align: right;\n",
       "    }\n",
       "</style>\n",
       "<table border=\"1\" class=\"dataframe\">\n",
       "  <thead>\n",
       "    <tr style=\"text-align: right;\">\n",
       "      <th></th>\n",
       "      <th>EX</th>\n",
       "      <th>FW</th>\n",
       "      <th>IN</th>\n",
       "      <th>JJ</th>\n",
       "      <th>JJR</th>\n",
       "      <th>JJS</th>\n",
       "      <th>JJ_exp</th>\n",
       "      <th>JJ_lim</th>\n",
       "      <th>JJ_pp</th>\n",
       "      <th>JJ_presp</th>\n",
       "      <th>NN</th>\n",
       "      <th>NNP</th>\n",
       "      <th>NNPS</th>\n",
       "      <th>NNS</th>\n",
       "      <th>PDT</th>\n",
       "      <th>POS</th>\n",
       "      <th>SYM</th>\n",
       "      <th>UH</th>\n",
       "      <th>WDT</th>\n",
       "      <th>WP</th>\n",
       "      <th>WP$</th>\n",
       "      <th>WRB</th>\n",
       "      <th>answer</th>\n",
       "    </tr>\n",
       "  </thead>\n",
       "  <tbody>\n",
       "    <tr>\n",
       "      <th>0</th>\n",
       "      <td>0.000000</td>\n",
       "      <td>0.0</td>\n",
       "      <td>0.000000</td>\n",
       "      <td>0.047619</td>\n",
       "      <td>0.000000</td>\n",
       "      <td>0.0</td>\n",
       "      <td>0.0</td>\n",
       "      <td>0.0</td>\n",
       "      <td>0.0</td>\n",
       "      <td>0.0</td>\n",
       "      <td>0.190476</td>\n",
       "      <td>0.095238</td>\n",
       "      <td>0.0</td>\n",
       "      <td>0.000000</td>\n",
       "      <td>0.0</td>\n",
       "      <td>0.0</td>\n",
       "      <td>0.0</td>\n",
       "      <td>0.0</td>\n",
       "      <td>0.0</td>\n",
       "      <td>0.0</td>\n",
       "      <td>0.000000</td>\n",
       "      <td>0.0</td>\n",
       "      <td>True</td>\n",
       "    </tr>\n",
       "    <tr>\n",
       "      <th>1</th>\n",
       "      <td>0.000000</td>\n",
       "      <td>0.0</td>\n",
       "      <td>0.031250</td>\n",
       "      <td>0.062500</td>\n",
       "      <td>0.000000</td>\n",
       "      <td>0.0</td>\n",
       "      <td>0.0</td>\n",
       "      <td>0.0</td>\n",
       "      <td>0.0</td>\n",
       "      <td>0.0</td>\n",
       "      <td>0.125000</td>\n",
       "      <td>0.031250</td>\n",
       "      <td>0.0</td>\n",
       "      <td>0.031250</td>\n",
       "      <td>0.0</td>\n",
       "      <td>0.0</td>\n",
       "      <td>0.0</td>\n",
       "      <td>0.0</td>\n",
       "      <td>0.0</td>\n",
       "      <td>0.0</td>\n",
       "      <td>0.000000</td>\n",
       "      <td>0.0</td>\n",
       "      <td>True</td>\n",
       "    </tr>\n",
       "    <tr>\n",
       "      <th>2</th>\n",
       "      <td>0.000000</td>\n",
       "      <td>0.0</td>\n",
       "      <td>0.066667</td>\n",
       "      <td>0.066667</td>\n",
       "      <td>0.000000</td>\n",
       "      <td>0.0</td>\n",
       "      <td>0.0</td>\n",
       "      <td>0.0</td>\n",
       "      <td>0.0</td>\n",
       "      <td>0.0</td>\n",
       "      <td>0.100000</td>\n",
       "      <td>0.133333</td>\n",
       "      <td>0.0</td>\n",
       "      <td>0.033333</td>\n",
       "      <td>0.0</td>\n",
       "      <td>0.0</td>\n",
       "      <td>0.0</td>\n",
       "      <td>0.0</td>\n",
       "      <td>0.0</td>\n",
       "      <td>0.0</td>\n",
       "      <td>0.000000</td>\n",
       "      <td>0.0</td>\n",
       "      <td>True</td>\n",
       "    </tr>\n",
       "    <tr>\n",
       "      <th>3</th>\n",
       "      <td>0.000000</td>\n",
       "      <td>0.0</td>\n",
       "      <td>0.068182</td>\n",
       "      <td>0.022727</td>\n",
       "      <td>0.000000</td>\n",
       "      <td>0.0</td>\n",
       "      <td>0.0</td>\n",
       "      <td>0.0</td>\n",
       "      <td>0.0</td>\n",
       "      <td>0.0</td>\n",
       "      <td>0.227273</td>\n",
       "      <td>0.022727</td>\n",
       "      <td>0.0</td>\n",
       "      <td>0.000000</td>\n",
       "      <td>0.0</td>\n",
       "      <td>0.0</td>\n",
       "      <td>0.0</td>\n",
       "      <td>0.0</td>\n",
       "      <td>0.0</td>\n",
       "      <td>0.0</td>\n",
       "      <td>0.022727</td>\n",
       "      <td>0.0</td>\n",
       "      <td>True</td>\n",
       "    </tr>\n",
       "    <tr>\n",
       "      <th>4</th>\n",
       "      <td>0.000000</td>\n",
       "      <td>0.0</td>\n",
       "      <td>0.095238</td>\n",
       "      <td>0.047619</td>\n",
       "      <td>0.000000</td>\n",
       "      <td>0.0</td>\n",
       "      <td>0.0</td>\n",
       "      <td>0.0</td>\n",
       "      <td>0.0</td>\n",
       "      <td>0.0</td>\n",
       "      <td>0.214286</td>\n",
       "      <td>0.023810</td>\n",
       "      <td>0.0</td>\n",
       "      <td>0.000000</td>\n",
       "      <td>0.0</td>\n",
       "      <td>0.0</td>\n",
       "      <td>0.0</td>\n",
       "      <td>0.0</td>\n",
       "      <td>0.0</td>\n",
       "      <td>0.0</td>\n",
       "      <td>0.023810</td>\n",
       "      <td>0.0</td>\n",
       "      <td>True</td>\n",
       "    </tr>\n",
       "    <tr>\n",
       "      <th>5</th>\n",
       "      <td>0.000000</td>\n",
       "      <td>0.0</td>\n",
       "      <td>0.000000</td>\n",
       "      <td>0.071429</td>\n",
       "      <td>0.000000</td>\n",
       "      <td>0.0</td>\n",
       "      <td>0.0</td>\n",
       "      <td>0.0</td>\n",
       "      <td>0.0</td>\n",
       "      <td>0.0</td>\n",
       "      <td>0.214286</td>\n",
       "      <td>0.000000</td>\n",
       "      <td>0.0</td>\n",
       "      <td>0.000000</td>\n",
       "      <td>0.0</td>\n",
       "      <td>0.0</td>\n",
       "      <td>0.0</td>\n",
       "      <td>0.0</td>\n",
       "      <td>0.0</td>\n",
       "      <td>0.0</td>\n",
       "      <td>0.000000</td>\n",
       "      <td>0.0</td>\n",
       "      <td>True</td>\n",
       "    </tr>\n",
       "    <tr>\n",
       "      <th>6</th>\n",
       "      <td>0.014286</td>\n",
       "      <td>0.0</td>\n",
       "      <td>0.142857</td>\n",
       "      <td>0.014286</td>\n",
       "      <td>0.000000</td>\n",
       "      <td>0.0</td>\n",
       "      <td>0.0</td>\n",
       "      <td>0.0</td>\n",
       "      <td>0.0</td>\n",
       "      <td>0.0</td>\n",
       "      <td>0.100000</td>\n",
       "      <td>0.014286</td>\n",
       "      <td>0.0</td>\n",
       "      <td>0.085714</td>\n",
       "      <td>0.0</td>\n",
       "      <td>0.0</td>\n",
       "      <td>0.0</td>\n",
       "      <td>0.0</td>\n",
       "      <td>0.0</td>\n",
       "      <td>0.0</td>\n",
       "      <td>0.000000</td>\n",
       "      <td>0.0</td>\n",
       "      <td>True</td>\n",
       "    </tr>\n",
       "    <tr>\n",
       "      <th>7</th>\n",
       "      <td>0.000000</td>\n",
       "      <td>0.0</td>\n",
       "      <td>0.000000</td>\n",
       "      <td>0.030303</td>\n",
       "      <td>0.060606</td>\n",
       "      <td>0.0</td>\n",
       "      <td>0.0</td>\n",
       "      <td>0.0</td>\n",
       "      <td>0.0</td>\n",
       "      <td>0.0</td>\n",
       "      <td>0.121212</td>\n",
       "      <td>0.030303</td>\n",
       "      <td>0.0</td>\n",
       "      <td>0.060606</td>\n",
       "      <td>0.0</td>\n",
       "      <td>0.0</td>\n",
       "      <td>0.0</td>\n",
       "      <td>0.0</td>\n",
       "      <td>0.0</td>\n",
       "      <td>0.0</td>\n",
       "      <td>0.000000</td>\n",
       "      <td>0.0</td>\n",
       "      <td>True</td>\n",
       "    </tr>\n",
       "    <tr>\n",
       "      <th>8</th>\n",
       "      <td>0.000000</td>\n",
       "      <td>0.0</td>\n",
       "      <td>0.137255</td>\n",
       "      <td>0.039216</td>\n",
       "      <td>0.000000</td>\n",
       "      <td>0.0</td>\n",
       "      <td>0.0</td>\n",
       "      <td>0.0</td>\n",
       "      <td>0.0</td>\n",
       "      <td>0.0</td>\n",
       "      <td>0.137255</td>\n",
       "      <td>0.039216</td>\n",
       "      <td>0.0</td>\n",
       "      <td>0.000000</td>\n",
       "      <td>0.0</td>\n",
       "      <td>0.0</td>\n",
       "      <td>0.0</td>\n",
       "      <td>0.0</td>\n",
       "      <td>0.0</td>\n",
       "      <td>0.0</td>\n",
       "      <td>0.000000</td>\n",
       "      <td>0.0</td>\n",
       "      <td>True</td>\n",
       "    </tr>\n",
       "    <tr>\n",
       "      <th>9</th>\n",
       "      <td>0.000000</td>\n",
       "      <td>0.0</td>\n",
       "      <td>0.000000</td>\n",
       "      <td>0.071429</td>\n",
       "      <td>0.000000</td>\n",
       "      <td>0.0</td>\n",
       "      <td>0.0</td>\n",
       "      <td>0.0</td>\n",
       "      <td>0.0</td>\n",
       "      <td>0.0</td>\n",
       "      <td>0.214286</td>\n",
       "      <td>0.000000</td>\n",
       "      <td>0.0</td>\n",
       "      <td>0.000000</td>\n",
       "      <td>0.0</td>\n",
       "      <td>0.0</td>\n",
       "      <td>0.0</td>\n",
       "      <td>0.0</td>\n",
       "      <td>0.0</td>\n",
       "      <td>0.0</td>\n",
       "      <td>0.000000</td>\n",
       "      <td>0.0</td>\n",
       "      <td>True</td>\n",
       "    </tr>\n",
       "  </tbody>\n",
       "</table>\n",
       "</div>"
      ],
      "text/plain": [
       "         EX   FW        IN        JJ       JJR  JJS  JJ_exp  JJ_lim  JJ_pp  \\\n",
       "0  0.000000  0.0  0.000000  0.047619  0.000000  0.0     0.0     0.0    0.0   \n",
       "1  0.000000  0.0  0.031250  0.062500  0.000000  0.0     0.0     0.0    0.0   \n",
       "2  0.000000  0.0  0.066667  0.066667  0.000000  0.0     0.0     0.0    0.0   \n",
       "3  0.000000  0.0  0.068182  0.022727  0.000000  0.0     0.0     0.0    0.0   \n",
       "4  0.000000  0.0  0.095238  0.047619  0.000000  0.0     0.0     0.0    0.0   \n",
       "5  0.000000  0.0  0.000000  0.071429  0.000000  0.0     0.0     0.0    0.0   \n",
       "6  0.014286  0.0  0.142857  0.014286  0.000000  0.0     0.0     0.0    0.0   \n",
       "7  0.000000  0.0  0.000000  0.030303  0.060606  0.0     0.0     0.0    0.0   \n",
       "8  0.000000  0.0  0.137255  0.039216  0.000000  0.0     0.0     0.0    0.0   \n",
       "9  0.000000  0.0  0.000000  0.071429  0.000000  0.0     0.0     0.0    0.0   \n",
       "\n",
       "   JJ_presp        NN       NNP  NNPS       NNS  PDT  POS  SYM   UH  WDT   WP  \\\n",
       "0       0.0  0.190476  0.095238   0.0  0.000000  0.0  0.0  0.0  0.0  0.0  0.0   \n",
       "1       0.0  0.125000  0.031250   0.0  0.031250  0.0  0.0  0.0  0.0  0.0  0.0   \n",
       "2       0.0  0.100000  0.133333   0.0  0.033333  0.0  0.0  0.0  0.0  0.0  0.0   \n",
       "3       0.0  0.227273  0.022727   0.0  0.000000  0.0  0.0  0.0  0.0  0.0  0.0   \n",
       "4       0.0  0.214286  0.023810   0.0  0.000000  0.0  0.0  0.0  0.0  0.0  0.0   \n",
       "5       0.0  0.214286  0.000000   0.0  0.000000  0.0  0.0  0.0  0.0  0.0  0.0   \n",
       "6       0.0  0.100000  0.014286   0.0  0.085714  0.0  0.0  0.0  0.0  0.0  0.0   \n",
       "7       0.0  0.121212  0.030303   0.0  0.060606  0.0  0.0  0.0  0.0  0.0  0.0   \n",
       "8       0.0  0.137255  0.039216   0.0  0.000000  0.0  0.0  0.0  0.0  0.0  0.0   \n",
       "9       0.0  0.214286  0.000000   0.0  0.000000  0.0  0.0  0.0  0.0  0.0  0.0   \n",
       "\n",
       "        WP$  WRB  answer  \n",
       "0  0.000000  0.0    True  \n",
       "1  0.000000  0.0    True  \n",
       "2  0.000000  0.0    True  \n",
       "3  0.022727  0.0    True  \n",
       "4  0.023810  0.0    True  \n",
       "5  0.000000  0.0    True  \n",
       "6  0.000000  0.0    True  \n",
       "7  0.000000  0.0    True  \n",
       "8  0.000000  0.0    True  \n",
       "9  0.000000  0.0    True  "
      ]
     },
     "metadata": {},
     "output_type": "display_data"
    }
   ],
   "source": [
    "# df = datasets.drop(columns=\"answer\")\n",
    "df = datasets\n",
    "display(df.head(10))"
   ]
  },
  {
   "cell_type": "code",
   "execution_count": 525,
   "metadata": {},
   "outputs": [
    {
     "data": {
      "text/plain": [
       "array([ True,  True,  True,  True,  True])"
      ]
     },
     "metadata": {},
     "output_type": "display_data"
    }
   ],
   "source": [
    "nd_category = np.array(datasets.iloc[:, -1], dtype=bool)\n",
    "display(nd_category[:5])"
   ]
  },
  {
   "cell_type": "code",
   "execution_count": 526,
   "metadata": {},
   "outputs": [
    {
     "name": "stdout",
     "output_type": "stream",
     "text": [
      "(2368, 23)\n"
     ]
    }
   ],
   "source": [
    "print(df.shape)"
   ]
  },
  {
   "cell_type": "code",
   "execution_count": 527,
   "metadata": {},
   "outputs": [
    {
     "name": "stdout",
     "output_type": "stream",
     "text": [
      "EX          float64\n",
      "FW          float64\n",
      "IN          float64\n",
      "JJ          float64\n",
      "JJR         float64\n",
      "JJS         float64\n",
      "JJ_exp      float64\n",
      "JJ_lim      float64\n",
      "JJ_pp       float64\n",
      "JJ_presp    float64\n",
      "NN          float64\n",
      "NNP         float64\n",
      "NNPS        float64\n",
      "NNS         float64\n",
      "PDT         float64\n",
      "POS         float64\n",
      "SYM         float64\n",
      "UH          float64\n",
      "WDT         float64\n",
      "WP          float64\n",
      "WP$         float64\n",
      "WRB         float64\n",
      "answer         bool\n",
      "dtype: object\n"
     ]
    }
   ],
   "source": [
    "print(df.dtypes)"
   ]
  },
  {
   "cell_type": "code",
   "execution_count": 528,
   "metadata": {},
   "outputs": [
    {
     "name": "stdout",
     "output_type": "stream",
     "text": [
      "EX          0\n",
      "FW          0\n",
      "IN          0\n",
      "JJ          0\n",
      "JJR         0\n",
      "JJS         0\n",
      "JJ_exp      0\n",
      "JJ_lim      0\n",
      "JJ_pp       0\n",
      "JJ_presp    0\n",
      "NN          0\n",
      "NNP         0\n",
      "NNPS        0\n",
      "NNS         0\n",
      "PDT         0\n",
      "POS         0\n",
      "SYM         0\n",
      "UH          0\n",
      "WDT         0\n",
      "WP          0\n",
      "WP$         0\n",
      "WRB         0\n",
      "answer      0\n",
      "dtype: int64\n"
     ]
    }
   ],
   "source": [
    "print(df.isna().sum())"
   ]
  },
  {
   "cell_type": "code",
   "execution_count": 529,
   "metadata": {},
   "outputs": [
    {
     "name": "stdout",
     "output_type": "stream",
     "text": [
      "<class 'pandas.core.frame.DataFrame'>\n",
      "RangeIndex: 2368 entries, 0 to 2367\n",
      "Data columns (total 23 columns):\n",
      " #   Column    Non-Null Count  Dtype  \n",
      "---  ------    --------------  -----  \n",
      " 0   EX        2368 non-null   float64\n",
      " 1   FW        2368 non-null   float64\n",
      " 2   IN        2368 non-null   float64\n",
      " 3   JJ        2368 non-null   float64\n",
      " 4   JJR       2368 non-null   float64\n",
      " 5   JJS       2368 non-null   float64\n",
      " 6   JJ_exp    2368 non-null   float64\n",
      " 7   JJ_lim    2368 non-null   float64\n",
      " 8   JJ_pp     2368 non-null   float64\n",
      " 9   JJ_presp  2368 non-null   float64\n",
      " 10  NN        2368 non-null   float64\n",
      " 11  NNP       2368 non-null   float64\n",
      " 12  NNPS      2368 non-null   float64\n",
      " 13  NNS       2368 non-null   float64\n",
      " 14  PDT       2368 non-null   float64\n",
      " 15  POS       2368 non-null   float64\n",
      " 16  SYM       2368 non-null   float64\n",
      " 17  UH        2368 non-null   float64\n",
      " 18  WDT       2368 non-null   float64\n",
      " 19  WP        2368 non-null   float64\n",
      " 20  WP$       2368 non-null   float64\n",
      " 21  WRB       2368 non-null   float64\n",
      " 22  answer    2368 non-null   bool   \n",
      "dtypes: bool(1), float64(22)\n",
      "memory usage: 409.4 KB\n"
     ]
    }
   ],
   "source": [
    "df.info()"
   ]
  },
  {
   "cell_type": "code",
   "execution_count": 530,
   "metadata": {},
   "outputs": [],
   "source": [
    "author_a_df: DataFrame = datasets.query(\"answer == True\")\n",
    "author_b_df: DataFrame = datasets.query(\"answer == False\")"
   ]
  },
  {
   "cell_type": "code",
   "execution_count": 531,
   "metadata": {},
   "outputs": [
    {
     "data": {
      "text/plain": [
       "count    1184.000000\n",
       "mean        0.000053\n",
       "std         0.001816\n",
       "min         0.000000\n",
       "25%         0.000000\n",
       "50%         0.000000\n",
       "75%         0.000000\n",
       "max         0.062500\n",
       "Name: JJ_lim, dtype: float64"
      ]
     },
     "execution_count": 531,
     "metadata": {},
     "output_type": "execute_result"
    }
   ],
   "source": [
    "author_a_df[\"JJ_lim\"].describe()"
   ]
  },
  {
   "cell_type": "code",
   "execution_count": 532,
   "metadata": {},
   "outputs": [
    {
     "data": {
      "text/plain": [
       "count    1184.000000\n",
       "mean        0.001060\n",
       "std         0.004955\n",
       "min         0.000000\n",
       "25%         0.000000\n",
       "50%         0.000000\n",
       "75%         0.000000\n",
       "max         0.066667\n",
       "Name: JJ_lim, dtype: float64"
      ]
     },
     "execution_count": 532,
     "metadata": {},
     "output_type": "execute_result"
    }
   ],
   "source": [
    "author_b_df[\"JJ_lim\"].describe()"
   ]
  },
  {
   "cell_type": "code",
   "execution_count": 533,
   "metadata": {},
   "outputs": [
    {
     "data": {
      "text/plain": [
       "<Axes: >"
      ]
     },
     "execution_count": 533,
     "metadata": {},
     "output_type": "execute_result"
    },
    {
     "data": {
      "image/png": "[encoded data removed]",
      "text/plain": [
       "<Figure size 640x480 with 1 Axes>"
      ]
     },
     "metadata": {},
     "output_type": "display_data"
    }
   ],
   "source": [
    "author_a_df[\"JJ_lim\"].hist(range=(0, 0.1), bins=10)"
   ]
  },
  {
   "cell_type": "code",
   "execution_count": 534,
   "metadata": {},
   "outputs": [
    {
     "data": {
      "text/plain": [
       "<Axes: >"
      ]
     },
     "execution_count": 534,
     "metadata": {},
     "output_type": "execute_result"
    },
    {
     "data": {
      "image/png": "[encoded data removed]",
      "text/plain": [
       "<Figure size 640x480 with 1 Axes>"
      ]
     },
     "metadata": {},
     "output_type": "display_data"
    }
   ],
   "source": [
    "author_b_df[\"JJ_lim\"].hist(range=(0, 0.1), bins=10)"
   ]
  },
  {
   "cell_type": "code",
   "execution_count": 535,
   "metadata": {},
   "outputs": [],
   "source": [
    "from matplotlib import pyplot as plt\n",
    "import seaborn as sns"
   ]
  },
  {
   "cell_type": "code",
   "execution_count": 536,
   "metadata": {},
   "outputs": [
    {
     "data": {
      "text/plain": [
       "<Axes: >"
      ]
     },
     "execution_count": 536,
     "metadata": {},
     "output_type": "execute_result"
    },
    {
     "data": {
      "image/png": "[encoded data removed]",
      "text/plain": [
       "<Figure size 1000x1000 with 2 Axes>"
      ]
     },
     "metadata": {},
     "output_type": "display_data"
    }
   ],
   "source": [
    "plt.figure(figsize=(10, 10))\n",
    "datasets_corr = datasets.corr()[[\"answer\"]].drop(\"answer\")\n",
    "sns.heatmap(datasets_corr, vmax=1, vmin=-1, center=0, annot=True, cmap=\"Blues\")"
   ]
  }
 ],
 "metadata": {
  "kernelspec": {
   "display_name": ".venv",
   "language": "python",
   "name": "python3"
  },
  "language_info": {
   "codemirror_mode": {
    "name": "ipython",
    "version": 3
   },
   "file_extension": ".py",
   "mimetype": "text/x-python",
   "name": "python",
   "nbconvert_exporter": "python",
   "pygments_lexer": "ipython3",
   "version": "3.12.3"
  }
 },
 "nbformat": 4,
 "nbformat_minor": 2
}
