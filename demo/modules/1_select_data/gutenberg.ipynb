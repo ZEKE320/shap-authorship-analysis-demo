{
 "cells": [
  {
   "cell_type": "code",
   "execution_count": 16,
   "metadata": {},
   "outputs": [
    {
     "name": "stdout",
     "output_type": "stream",
     "text": [
      "The autoreload extension is already loaded. To reload it, use:\n",
      "  %reload_ext autoreload\n"
     ]
    }
   ],
   "source": [
    "%load_ext autoreload\n",
    "%autoreload 2"
   ]
  },
  {
   "cell_type": "code",
   "execution_count": 17,
   "metadata": {},
   "outputs": [
    {
     "name": "stderr",
     "output_type": "stream",
     "text": [
      "[nltk_data] Downloading package gutenberg to /home/vscode/nltk_data...\n",
      "[nltk_data]   Package gutenberg is already up-to-date!\n"
     ]
    },
    {
     "data": {
      "text/plain": [
       "True"
      ]
     },
     "execution_count": 17,
     "metadata": {},
     "output_type": "execute_result"
    }
   ],
   "source": [
    "import nltk\n",
    "\n",
    "# 必要に応じてダウンロード\n",
    "\n",
    "nltk.download(\"gutenberg\")"
   ]
  },
  {
   "cell_type": "code",
   "execution_count": 18,
   "metadata": {},
   "outputs": [],
   "source": [
    "import re\n",
    "from pathlib import Path\n",
    "from typing import Final, TypeAlias\n",
    "\n",
    "import numpy as np\n",
    "import pandas as pd\n",
    "from nltk.corpus import gutenberg\n",
    "\n",
    "from authorship_tool.types_ import AuthorColl4dStr, Para2dStr\n",
    "from authorship_tool.util import dim_reshaper, type_guard\n",
    "from authorship_tool.util.path_util import GutenbergPaths\n",
    "from authorship_tool.util.serializer import author_collection_to_csv"
   ]
  },
  {
   "cell_type": "code",
   "execution_count": 19,
   "metadata": {},
   "outputs": [],
   "source": [
    "output_path: Final[Path] = GutenbergPaths.processed_text_dir"
   ]
  },
  {
   "cell_type": "code",
   "execution_count": 20,
   "metadata": {},
   "outputs": [],
   "source": [
    "np.seterr(divide=\"call\")\n",
    "pd.set_option(\"display.max_columns\", None)\n",
    "pd.set_option(\"display.max_rows\", None)"
   ]
  },
  {
   "cell_type": "code",
   "execution_count": 21,
   "metadata": {},
   "outputs": [
    {
     "name": "stdout",
     "output_type": "stream",
     "text": [
      "#1\tausten-emma.txt\n",
      "#2\tausten-persuasion.txt\n",
      "#3\tausten-sense.txt\n",
      "#4\tbible-kjv.txt\n",
      "#5\tblake-poems.txt\n",
      "#6\tbryant-stories.txt\n",
      "#7\tburgess-busterbrown.txt\n",
      "#8\tcarroll-alice.txt\n",
      "#9\tchesterton-ball.txt\n",
      "#10\tchesterton-brown.txt\n",
      "#11\tchesterton-thursday.txt\n",
      "#12\tedgeworth-parents.txt\n",
      "#13\tmelville-moby_dick.txt\n",
      "#14\tmilton-paradise.txt\n",
      "#15\tshakespeare-caesar.txt\n",
      "#16\tshakespeare-hamlet.txt\n",
      "#17\tshakespeare-macbeth.txt\n",
      "#18\twhitman-leaves.txt\n"
     ]
    }
   ],
   "source": [
    "for idx, file_id in enumerate(gutenberg.fileids()):\n",
    "    print(f\"#{idx+1}\\t{file_id}\")"
   ]
  },
  {
   "cell_type": "code",
   "execution_count": 22,
   "metadata": {},
   "outputs": [
    {
     "name": "stdout",
     "output_type": "stream",
     "text": [
      "1:\tbible - 24608 paragraphs\n",
      "2:\tausten - 5265 paragraphs\n",
      "3:\tchesterton - 4055 paragraphs\n",
      "4:\tedgeworth - 3726 paragraphs\n",
      "5:\tmelville - 2793 paragraphs\n",
      "6:\twhitman - 2478 paragraphs\n",
      "7:\tshakespeare - 2372 paragraphs\n",
      "8:\tbryant - 1194 paragraphs\n",
      "9:\tcarroll - 817 paragraphs\n",
      "10:\tblake - 284 paragraphs\n",
      "11:\tburgess - 266 paragraphs\n",
      "12:\tmilton - 29 paragraphs\n"
     ]
    }
   ],
   "source": [
    "Author: TypeAlias = str\n",
    "NumOfParas: TypeAlias = int\n",
    "\n",
    "authors: set[Author] = {\n",
    "    match.group(1)\n",
    "    for file_id in gutenberg.fileids()\n",
    "    if (match := re.search(r\"^(.+?)-\", file_id)) is not None\n",
    "}\n",
    "\n",
    "para_size_by_author: dict[Author, NumOfParas] = {}\n",
    "\n",
    "for index, author in enumerate(authors):\n",
    "    books_of_author: list[list[Para2dStr]] = [\n",
    "        gutenberg.paras(fileids=file_id)\n",
    "        for file_id in gutenberg.fileids()\n",
    "        if author in file_id\n",
    "    ]\n",
    "\n",
    "    para_num: NumOfParas = len([para for paras in books_of_author for para in paras])\n",
    "    para_size_by_author[author] = para_num\n",
    "\n",
    "sorted_para_size_by_author: dict[Author, NumOfParas] = dict(\n",
    "    sorted(para_size_by_author.items(), key=lambda item: item[1], reverse=True)\n",
    ")\n",
    "\n",
    "for idx, item in enumerate(sorted_para_size_by_author.items()):\n",
    "    print(f\"{idx + 1}:\\t{item[0]} - {item[1]} paragraphs\")"
   ]
  },
  {
   "cell_type": "code",
   "execution_count": 23,
   "metadata": {},
   "outputs": [],
   "source": [
    "AUTHOR_A: Final[str] = \"chesterton\"\n",
    "AUTHOR_B: Final[str] = \"bryant\""
   ]
  },
  {
   "cell_type": "code",
   "execution_count": 24,
   "metadata": {},
   "outputs": [
    {
     "name": "stdout",
     "output_type": "stream",
     "text": [
      "[ The Ball and The Cross by G . K . Chesterton 1909 ]\n",
      "I . A DISCUSSION SOMEWHAT IN THE AIR\n",
      "The flying ship of Professor Lucifer sang through the skies like a silver arrow ; the bleak white steel of it , gleaming in the bleak blue emptiness of the evening . That it was far above the earth was no expression for it ; to the two men in it , it seemed to be far above the stars . The professor had himself invented the flying machine , and had also invented nearly everything in it . Every sort of tool or apparatus had , in consequence , to the full , that fantastic and distorted look which belongs to the miracles of science . For the world of science and evolution is far more nameless and elusive and like a dream than the world of poetry and religion ; since in the latter images and ideas remain themselves eternally , while it is the whole idea of evolution that identities melt into each other as they do in a nightmare .\n",
      "All the tools of Professor Lucifer were the ancient human tools gone mad , grown into unrecognizable shapes , forgetful of their origin , forgetful of their names . That thing which looked like an enormous key with three wheels was really a patent and very deadly revolver . That object which seemed to be created by the entanglement of two corkscrews was really the key . The thing which might have been mistaken for a tricycle turned upside - down was the inexpressibly important instrument to which the corkscrew was the key . All these things , as I say , the professor had invented ; he had invented everything in the flying ship , with the exception , perhaps , of himself . This he had been born too late actually to inaugurate , but he believed at least , that he had considerably improved it .\n",
      "There was , however , another man on board , so to speak , at the time . Him , also , by a curious coincidence , the professor had not invented , and him he had not even very greatly improved , though he had fished him up with a lasso out of his own back garden , in Western Bulgaria , with the pure object of improving him . He was an exceedingly holy man , almost entirely covered with white hair . You could see nothing but his eyes , and he seemed to talk with them . A monk of immense learning and acute intellect he had made himself happy in a little stone hut and a little stony garden in the Balkans , chiefly by writing the most crushing refutations of exposures of certain heresies , the last professors of which had been burnt ( generally by each other ) precisely 1 , 119 years previously . They were really very plausible and thoughtful heresies , and it was really a creditable or even glorious circumstance , that the old monk had been intellectual enough to detect their fallacy ; the only misfortune was that nobody in the modern world was intellectual enough even to understand their argument . The old monk , one of whose names was Michael , and the other a name quite impossible to remember or repeat in our Western civilization , had , however , as I have said , made himself quite happy while he was in a mountain hermitage in the society of wild animals . And now that his luck had lifted him above all the mountains in the society of a wild physicist , he made himself happy still .\n",
      "\" I have no intention , my good Michael ,\" said Professor Lucifer , \" of endeavouring to convert you by argument . The imbecility of your traditions can be quite finally exhibited to anybody with mere ordinary knowledge of the world , the same kind of knowledge which teaches us not to sit in draughts or not to encourage friendliness in impecunious people . It is folly to talk of this or that demonstrating the rationalist philosophy . Everything demonstrates it . Rubbing shoulders with men of all kinds ----\"\n",
      "\" You will forgive me ,\" said the monk , meekly from under loads of white beard , \" but I fear I do not understand ; was it in order that I might rub my shoulder against men of all kinds that you put me inside this thing ?\"\n",
      "\" An entertaining retort , in the narrow and deductive manner of the Middle Ages ,\" replied the Professor , calmly , \" but even upon your own basis I will illustrate my point . We are up in the sky . In your religion and all the religions , as far as I know ( and I know everything ), the sky is made the symbol of everything that is sacred and merciful . Well , now you are in the sky , you know better . Phrase it how you like , twist it how you like , you know that you know better . You know what are a man ' s real feelings about the heavens , when he finds himself alone in the heavens , surrounded by the heavens . You know the truth , and the truth is this . The heavens are evil , the sky is evil , the stars are evil . This mere space , this mere quantity , terrifies a man more than tigers or the terrible plague . You know that since our science has spoken , the bottom has fallen out of the Universe . Now , heaven is the hopeless thing , more hopeless than any hell . Now , if there be any comfort for all your miserable progeny of morbid apes , it must be in the earth , underneath you , under the roots of the grass , in the place where hell was of old . The fiery crypts , the lurid cellars of the underworld , to which you once condemned the wicked , are hideous enough , but at least they are more homely than the heaven in which we ride . And the time will come when you will all hide in them , to escape the horror of the stars .\"\n",
      "\" I hope you will excuse my interrupting you ,\" said Michael , with a slight cough , \" but I have always noticed ----\"\n",
      "\" Go on , pray go on ,\" said Professor Lucifer , radiantly , \" I really like to draw out your simple ideas .\"\n",
      "\" Well , the fact is ,\" said the other , \" that much as I admire your rhetoric and the rhetoric of your school , from a purely verbal point of view , such little study of you and your school in human history as I have been enabled to make has led me to -- er -- rather singular conclusion , which I find great difficulty in expressing , especially in a foreign language .\"\n",
      "\" Come , come ,\" said the Professor , encouragingly , \" I ' ll help you out . How did my view strike you ?\"\n",
      "\" Well , the truth is , I know I don ' t express it properly , but somehow it seemed to me that you always convey ideas of that kind with most eloquence , when -- er -- when ----\"\n",
      "\" Oh ! get on ,\" cried Lucifer , boisterously .\n",
      "\" Well , in point of fact when your flying ship is just going to run into something . I thought you wouldn ' t mind my mentioning it , but it ' s running into something now .\"\n",
      "Lucifer exploded with an oath and leapt erect , leaning hard upon the handle that acted as a helm to the vessel . For the last ten minutes they had been shooting downwards into great cracks and caverns of cloud . Now , through a sort of purple haze , could be seen comparatively near to them what seemed to be the upper part of a huge , dark orb or sphere , islanded in a sea of cloud . The Professor ' s eyes were blazing like a maniac ' s .\n",
      "\" It is a new world ,\" he cried , with a dreadful mirth . \" It is a new planet and it shall bear my name . This star and not that other vulgar one shall be ' Lucifer , sun of the morning .' Here we will have no chartered lunacies , here we will have no gods . Here man shall be as innocent as the daisies , as innocent and as cruel -- here the intellect ----\"\n",
      "\" There seems ,\" said Michael , timidly , \" to be something sticking up in the middle of it .\"\n",
      "\" So there is ,\" said the Professor , leaning over the side of the ship , his spectacles shining with intellectual excitement . \" What can it be ? It might of course be merely a ----\"\n",
      "Then a shriek indescribable broke out of him of a sudden , and he flung up his arms like a lost spirit . The monk took the helm in a tired way ; he did not seem much astonished for he came from an ignorant part of the world in which it is not uncommon for lost spirits to shriek when they see the curious shape which the Professor had just seen on the top of the mysterious ball , but he took the helm only just in time , and by driving it hard to the left he prevented the flying ship from smashing into St . Paul ' s Cathedral .\n",
      "...\n",
      "\n",
      "Author: chesterton, 4055 paragraphs\n",
      "\n"
     ]
    }
   ],
   "source": [
    "books_a: AuthorColl4dStr = [\n",
    "    gutenberg.paras(fileids=file_id)\n",
    "    for file_id in gutenberg.fileids()\n",
    "    if AUTHOR_A in file_id\n",
    "]\n",
    "\n",
    "paras_a: list[Para2dStr] = [para for paras in books_a for para in paras]\n",
    "if len(paras_a) == 0 or not type_guard.are_paras(paras_a):\n",
    "    raise ValueError(\"paras_a is empty or not list[Para]\")\n",
    "\n",
    "for para in paras_a[:20]:\n",
    "    print(dim_reshaper.two_dim_to_str(para))\n",
    "\n",
    "print(f\"...\\n\\nAuthor: {AUTHOR_A}, {len(paras_a)} paragraphs\\n\")"
   ]
  },
  {
   "cell_type": "code",
   "execution_count": 25,
   "metadata": {},
   "outputs": [
    {
     "name": "stdout",
     "output_type": "stream",
     "text": [
      "[ Stories to Tell to Children by Sara Cone Bryant 1918 ]\n",
      "TWO LITTLE RIDDLES IN RHYME\n",
      "There ' s a garden that I ken , Full of little gentlemen ; Little caps of blue they wear , And green ribbons , very fair . ( Flax .)\n",
      "From house to house he goes , A messenger small and slight , And whether it rains or snows , He sleeps outside in the night . ( The path .)\n",
      "THE LITTLE YELLOW TULIP\n",
      "Once there was a little yellow Tulip , and she lived down in a little dark house under the ground . One day she was sitting there , all by herself , and it was very still . Suddenly , she heard a little _tap , tap , tap_ , at the door .\n",
      "\" Who is that ?\" she said .\n",
      "\" It ' s the Rain , and I want to come in ,\" said a soft , sad , little voice .\n",
      "\" No , you can ' t come in ,\" the little Tulip said .\n",
      "By and by she heard another little _tap , tap , tap_ on the window - pane .\n",
      "\" Who is there ?\" she said .\n",
      "The same soft little voice answered , \" It ' s the Rain , and I want to come in !\"\n",
      "\" No , you can ' t come in ,\" said the little Tulip .\n",
      "Then it was very still for a long time . At last , there came a little rustling , whispering sound , all round the window : _rustle , whisper , whisper_ .\n",
      "\" Who is there ?\" said the little Tulip .\n",
      "\" It ' s the Sunshine ,\" said a little , soft , cheery voice , \" and I want to come in !\"\n",
      "\" N -- no ,\" said the little Tulip , \" you can ' t come in .\" And she sat still again .\n",
      "Pretty soon she heard the sweet little rustling noise at the keyhole .\n",
      "\" Who is there ?\" she said .\n",
      "\" It ' s the Sunshine ,\" said the cheery little voice , \" and I want to come in , I want to come in !\"\n",
      "...\n",
      "\n",
      "Author: bryant, 1194 paragraphs\n",
      "\n"
     ]
    }
   ],
   "source": [
    "books_b: AuthorColl4dStr = [\n",
    "    gutenberg.paras(fileids=file_id)\n",
    "    for file_id in gutenberg.fileids()\n",
    "    if AUTHOR_B in file_id\n",
    "]\n",
    "\n",
    "paras_b: list[Para2dStr] = [para for paras in books_b for para in paras]\n",
    "if len(paras_b) == 0 or not type_guard.are_paras(paras_b):\n",
    "    raise ValueError(\"paras_a is empty or not list[list[str]]\")\n",
    "\n",
    "for para in paras_b[:20]:\n",
    "    print(dim_reshaper.two_dim_to_str(para))\n",
    "\n",
    "print(f\"...\\n\\nAuthor: {AUTHOR_B}, {len(paras_b)} paragraphs\\n\")"
   ]
  },
  {
   "cell_type": "code",
   "execution_count": 26,
   "metadata": {},
   "outputs": [
    {
     "name": "stdout",
     "output_type": "stream",
     "text": [
      "total: 5249 paragraphs (samples)\n"
     ]
    }
   ],
   "source": [
    "print(f\"total: {len(paras_a + paras_b)} paragraphs (samples)\")"
   ]
  },
  {
   "cell_type": "code",
   "execution_count": 27,
   "metadata": {},
   "outputs": [
    {
     "name": "stdout",
     "output_type": "stream",
     "text": [
      "+---------------+------------------+-------------------+------------------+-------------------+----------+------------+----------+----------+-----------+----------+----------+----------+----------+------------+-----------+------------+-----------+-----------+-----------+-----------+-----------+-----------+-----------+-----------+-----------+-----------+-----------+-----------+-----------+-----------+-----------+-----------+-----------+-----------+-----------+-----------+-----------+-----------+-----------+-----------+-----------+-----------+-----------+-----------+-----------+-----------+-----------+-----------+-----------+-----------+-----------+-----------+-----------+-----------+-----------+-----------+-----------+-----------+-----------+-----------+-----------+-----------+-----------+-----------+-----------+-----------+-----------+-----------+-----------+-----------+-----------+-----------+-----------+-----------+-----------+-----------+-----------+-----------+-----------+-----------+-----------+-----------+-----------+-----------+-----------+-----------+-----------+-----------+-----------+-----------+-----------+-----------+-----------+-----------+-----------+-----------+-----------+-----------+-----------+-----------+-----------+-----------+-----------+------------+------------+------------+------------+------------+------------+------------+------------+------------+------------+------------+------------+------------+------------+------------+------------+------------+------------+------------+------------+------------+------------+------------+------------+------------+------------+------------+------------+------------+------------+------------+------------+------------+------------+------------+------------+------------+------------+------------+------------+------------+------------+------------+------------+------------+------------+------------+------------+------------+------------+------------+------------+------------+\n",
      "| Author name   |   Document index |   Paragraph index |   Sentence index |   Sentence length | Word 1   | Word 2     | Word 3   | Word 4   | Word 5    | Word 6   | Word 7   | Word 8   | Word 9   | Word 10    | Word 11   | Word 12    | Word 13   | Word 14   | Word 15   | Word 16   | Word 17   | Word 18   | Word 19   | Word 20   | Word 21   | Word 22   | Word 23   | Word 24   | Word 25   | Word 26   | Word 27   | Word 28   | Word 29   | Word 30   | Word 31   | Word 32   | Word 33   | Word 34   | Word 35   | Word 36   | Word 37   | Word 38   | Word 39   | Word 40   | Word 41   | Word 42   | Word 43   | Word 44   | Word 45   | Word 46   | Word 47   | Word 48   | Word 49   | Word 50   | Word 51   | Word 52   | Word 53   | Word 54   | Word 55   | Word 56   | Word 57   | Word 58   | Word 59   | Word 60   | Word 61   | Word 62   | Word 63   | Word 64   | Word 65   | Word 66   | Word 67   | Word 68   | Word 69   | Word 70   | Word 71   | Word 72   | Word 73   | Word 74   | Word 75   | Word 76   | Word 77   | Word 78   | Word 79   | Word 80   | Word 81   | Word 82   | Word 83   | Word 84   | Word 85   | Word 86   | Word 87   | Word 88   | Word 89   | Word 90   | Word 91   | Word 92   | Word 93   | Word 94   | Word 95   | Word 96   | Word 97   | Word 98   | Word 99   | Word 100   | Word 101   | Word 102   | Word 103   | Word 104   | Word 105   | Word 106   | Word 107   | Word 108   | Word 109   | Word 110   | Word 111   | Word 112   | Word 113   | Word 114   | Word 115   | Word 116   | Word 117   | Word 118   | Word 119   | Word 120   | Word 121   | Word 122   | Word 123   | Word 124   | Word 125   | Word 126   | Word 127   | Word 128   | Word 129   | Word 130   | Word 131   | Word 132   | Word 133   | Word 134   | Word 135   | Word 136   | Word 137   | Word 138   | Word 139   | Word 140   | Word 141   | Word 142   | Word 143   | Word 144   | Word 145   | Word 146   | Word 147   | Word 148   | Word 149   | Word 150   | Word 151   | Word 152   |\n",
      "|---------------+------------------+-------------------+------------------+-------------------+----------+------------+----------+----------+-----------+----------+----------+----------+----------+------------+-----------+------------+-----------+-----------+-----------+-----------+-----------+-----------+-----------+-----------+-----------+-----------+-----------+-----------+-----------+-----------+-----------+-----------+-----------+-----------+-----------+-----------+-----------+-----------+-----------+-----------+-----------+-----------+-----------+-----------+-----------+-----------+-----------+-----------+-----------+-----------+-----------+-----------+-----------+-----------+-----------+-----------+-----------+-----------+-----------+-----------+-----------+-----------+-----------+-----------+-----------+-----------+-----------+-----------+-----------+-----------+-----------+-----------+-----------+-----------+-----------+-----------+-----------+-----------+-----------+-----------+-----------+-----------+-----------+-----------+-----------+-----------+-----------+-----------+-----------+-----------+-----------+-----------+-----------+-----------+-----------+-----------+-----------+-----------+-----------+-----------+-----------+-----------+-----------+------------+------------+------------+------------+------------+------------+------------+------------+------------+------------+------------+------------+------------+------------+------------+------------+------------+------------+------------+------------+------------+------------+------------+------------+------------+------------+------------+------------+------------+------------+------------+------------+------------+------------+------------+------------+------------+------------+------------+------------+------------+------------+------------+------------+------------+------------+------------+------------+------------+------------+------------+------------+------------|\n",
      "| chesterton    |                0 |                 0 |                0 |                14 | [        | The        | Ball     | and      | The       | Cross    | by       | G        | .        | K          | .         | Chesterton | 1909      | ]         |           |           |           |           |           |           |           |           |           |           |           |           |           |           |           |           |           |           |           |           |           |           |           |           |           |           |           |           |           |           |           |           |           |           |           |           |           |           |           |           |           |           |           |           |           |           |           |           |           |           |           |           |           |           |           |           |           |           |           |           |           |           |           |           |           |           |           |           |           |           |           |           |           |           |           |           |           |           |           |           |           |           |           |           |           |            |            |            |            |            |            |            |            |            |            |            |            |            |            |            |            |            |            |            |            |            |            |            |            |            |            |            |            |            |            |            |            |            |            |            |            |            |            |            |            |            |            |            |            |            |            |            |            |            |            |            |            |            |\n",
      "| chesterton    |                0 |                 1 |                0 |                 2 | I        | .          |          |          |           |          |          |          |          |            |           |            |           |           |           |           |           |           |           |           |           |           |           |           |           |           |           |           |           |           |           |           |           |           |           |           |           |           |           |           |           |           |           |           |           |           |           |           |           |           |           |           |           |           |           |           |           |           |           |           |           |           |           |           |           |           |           |           |           |           |           |           |           |           |           |           |           |           |           |           |           |           |           |           |           |           |           |           |           |           |           |           |           |           |           |           |           |           |           |            |            |            |            |            |            |            |            |            |            |            |            |            |            |            |            |            |            |            |            |            |            |            |            |            |            |            |            |            |            |            |            |            |            |            |            |            |            |            |            |            |            |            |            |            |            |            |            |            |            |            |            |            |\n",
      "| chesterton    |                0 |                 1 |                1 |                 6 | A        | DISCUSSION | SOMEWHAT | IN       | THE       | AIR      |          |          |          |            |           |            |           |           |           |           |           |           |           |           |           |           |           |           |           |           |           |           |           |           |           |           |           |           |           |           |           |           |           |           |           |           |           |           |           |           |           |           |           |           |           |           |           |           |           |           |           |           |           |           |           |           |           |           |           |           |           |           |           |           |           |           |           |           |           |           |           |           |           |           |           |           |           |           |           |           |           |           |           |           |           |           |           |           |           |           |           |           |           |            |            |            |            |            |            |            |            |            |            |            |            |            |            |            |            |            |            |            |            |            |            |            |            |            |            |            |            |            |            |            |            |            |            |            |            |            |            |            |            |            |            |            |            |            |            |            |            |            |            |            |            |            |\n",
      "| chesterton    |                0 |                 2 |                0 |                32 | The      | flying     | ship     | of       | Professor | Lucifer  | sang     | through  | the      | skies      | like      | a          | silver    | arrow     | ;         | the       | bleak     | white     | steel     | of        | it        | ,         | gleaming  | in        | the       | bleak     | blue      | emptiness | of        | the       | evening   | .         |           |           |           |           |           |           |           |           |           |           |           |           |           |           |           |           |           |           |           |           |           |           |           |           |           |           |           |           |           |           |           |           |           |           |           |           |           |           |           |           |           |           |           |           |           |           |           |           |           |           |           |           |           |           |           |           |           |           |           |           |           |           |           |           |           |           |           |            |            |            |            |            |            |            |            |            |            |            |            |            |            |            |            |            |            |            |            |            |            |            |            |            |            |            |            |            |            |            |            |            |            |            |            |            |            |            |            |            |            |            |            |            |            |            |            |            |            |            |            |            |\n",
      "| chesterton    |                0 |                 2 |                1 |                29 | That     | it         | was      | far      | above     | the      | earth    | was      | no       | expression | for       | it         | ;         | to        | the       | two       | men       | in        | it        | ,         | it        | seemed    | to        | be        | far       | above     | the       | stars     | .         |           |           |           |           |           |           |           |           |           |           |           |           |           |           |           |           |           |           |           |           |           |           |           |           |           |           |           |           |           |           |           |           |           |           |           |           |           |           |           |           |           |           |           |           |           |           |           |           |           |           |           |           |           |           |           |           |           |           |           |           |           |           |           |           |           |           |           |           |           |           |            |            |            |            |            |            |            |            |            |            |            |            |            |            |            |            |            |            |            |            |            |            |            |            |            |            |            |            |            |            |            |            |            |            |            |            |            |            |            |            |            |            |            |            |            |            |            |            |            |            |            |            |            |\n",
      "+---------------+------------------+-------------------+------------------+-------------------+----------+------------+----------+----------+-----------+----------+----------+----------+----------+------------+-----------+------------+-----------+-----------+-----------+-----------+-----------+-----------+-----------+-----------+-----------+-----------+-----------+-----------+-----------+-----------+-----------+-----------+-----------+-----------+-----------+-----------+-----------+-----------+-----------+-----------+-----------+-----------+-----------+-----------+-----------+-----------+-----------+-----------+-----------+-----------+-----------+-----------+-----------+-----------+-----------+-----------+-----------+-----------+-----------+-----------+-----------+-----------+-----------+-----------+-----------+-----------+-----------+-----------+-----------+-----------+-----------+-----------+-----------+-----------+-----------+-----------+-----------+-----------+-----------+-----------+-----------+-----------+-----------+-----------+-----------+-----------+-----------+-----------+-----------+-----------+-----------+-----------+-----------+-----------+-----------+-----------+-----------+-----------+-----------+-----------+-----------+-----------+-----------+------------+------------+------------+------------+------------+------------+------------+------------+------------+------------+------------+------------+------------+------------+------------+------------+------------+------------+------------+------------+------------+------------+------------+------------+------------+------------+------------+------------+------------+------------+------------+------------+------------+------------+------------+------------+------------+------------+------------+------------+------------+------------+------------+------------+------------+------------+------------+------------+------------+------------+------------+------------+------------+\n",
      "+---------------+------------------+-------------------+------------------+-------------------+----------+----------+----------+----------+----------+----------+----------+----------+-----------+-----------+-----------+-----------+-----------+-----------+-----------+-----------+-----------+-----------+-----------+-----------+-----------+-----------+-----------+-----------+-----------+-----------+-----------+-----------+-----------+-----------+-----------+-----------+-----------+-----------+-----------+-----------+-----------+-----------+-----------+-----------+-----------+-----------+-----------+-----------+-----------+-----------+-----------+-----------+-----------+-----------+-----------+-----------+-----------+-----------+-----------+-----------+-----------+-----------+-----------+-----------+-----------+-----------+-----------+-----------+-----------+-----------+-----------+-----------+-----------+-----------+-----------+-----------+-----------+-----------+-----------+-----------+-----------+-----------+-----------+-----------+-----------+-----------+-----------+-----------+-----------+-----------+-----------+-----------+-----------+-----------+-----------+-----------+-----------+-----------+-----------+-----------+-----------+-----------+-----------+------------+------------+------------+------------+------------+------------+------------+------------+------------+------------+------------+------------+------------+------------+------------+------------+------------+------------+------------+------------+------------+------------+------------+------------+------------+------------+------------+------------+------------+------------+------------+------------+------------+------------+------------+------------+------------+\n",
      "| Author name   |   Document index |   Paragraph index |   Sentence index |   Sentence length | Word 1   | Word 2   | Word 3   | Word 4   | Word 5   | Word 6   | Word 7   | Word 8   | Word 9    | Word 10   | Word 11   | Word 12   | Word 13   | Word 14   | Word 15   | Word 16   | Word 17   | Word 18   | Word 19   | Word 20   | Word 21   | Word 22   | Word 23   | Word 24   | Word 25   | Word 26   | Word 27   | Word 28   | Word 29   | Word 30   | Word 31   | Word 32   | Word 33   | Word 34   | Word 35   | Word 36   | Word 37   | Word 38   | Word 39   | Word 40   | Word 41   | Word 42   | Word 43   | Word 44   | Word 45   | Word 46   | Word 47   | Word 48   | Word 49   | Word 50   | Word 51   | Word 52   | Word 53   | Word 54   | Word 55   | Word 56   | Word 57   | Word 58   | Word 59   | Word 60   | Word 61   | Word 62   | Word 63   | Word 64   | Word 65   | Word 66   | Word 67   | Word 68   | Word 69   | Word 70   | Word 71   | Word 72   | Word 73   | Word 74   | Word 75   | Word 76   | Word 77   | Word 78   | Word 79   | Word 80   | Word 81   | Word 82   | Word 83   | Word 84   | Word 85   | Word 86   | Word 87   | Word 88   | Word 89   | Word 90   | Word 91   | Word 92   | Word 93   | Word 94   | Word 95   | Word 96   | Word 97   | Word 98   | Word 99   | Word 100   | Word 101   | Word 102   | Word 103   | Word 104   | Word 105   | Word 106   | Word 107   | Word 108   | Word 109   | Word 110   | Word 111   | Word 112   | Word 113   | Word 114   | Word 115   | Word 116   | Word 117   | Word 118   | Word 119   | Word 120   | Word 121   | Word 122   | Word 123   | Word 124   | Word 125   | Word 126   | Word 127   | Word 128   | Word 129   | Word 130   | Word 131   | Word 132   | Word 133   | Word 134   | Word 135   | Word 136   |\n",
      "|---------------+------------------+-------------------+------------------+-------------------+----------+----------+----------+----------+----------+----------+----------+----------+-----------+-----------+-----------+-----------+-----------+-----------+-----------+-----------+-----------+-----------+-----------+-----------+-----------+-----------+-----------+-----------+-----------+-----------+-----------+-----------+-----------+-----------+-----------+-----------+-----------+-----------+-----------+-----------+-----------+-----------+-----------+-----------+-----------+-----------+-----------+-----------+-----------+-----------+-----------+-----------+-----------+-----------+-----------+-----------+-----------+-----------+-----------+-----------+-----------+-----------+-----------+-----------+-----------+-----------+-----------+-----------+-----------+-----------+-----------+-----------+-----------+-----------+-----------+-----------+-----------+-----------+-----------+-----------+-----------+-----------+-----------+-----------+-----------+-----------+-----------+-----------+-----------+-----------+-----------+-----------+-----------+-----------+-----------+-----------+-----------+-----------+-----------+-----------+-----------+-----------+-----------+------------+------------+------------+------------+------------+------------+------------+------------+------------+------------+------------+------------+------------+------------+------------+------------+------------+------------+------------+------------+------------+------------+------------+------------+------------+------------+------------+------------+------------+------------+------------+------------+------------+------------+------------+------------+------------|\n",
      "| bryant        |                0 |                 0 |                0 |                12 | [        | Stories  | to       | Tell     | to       | Children | by       | Sara     | Cone      | Bryant    | 1918      | ]         |           |           |           |           |           |           |           |           |           |           |           |           |           |           |           |           |           |           |           |           |           |           |           |           |           |           |           |           |           |           |           |           |           |           |           |           |           |           |           |           |           |           |           |           |           |           |           |           |           |           |           |           |           |           |           |           |           |           |           |           |           |           |           |           |           |           |           |           |           |           |           |           |           |           |           |           |           |           |           |           |           |           |           |           |           |           |           |            |            |            |            |            |            |            |            |            |            |            |            |            |            |            |            |            |            |            |            |            |            |            |            |            |            |            |            |            |            |            |            |            |            |            |            |            |\n",
      "| bryant        |                0 |                 1 |                0 |                 5 | TWO      | LITTLE   | RIDDLES  | IN       | RHYME    |          |          |          |           |           |           |           |           |           |           |           |           |           |           |           |           |           |           |           |           |           |           |           |           |           |           |           |           |           |           |           |           |           |           |           |           |           |           |           |           |           |           |           |           |           |           |           |           |           |           |           |           |           |           |           |           |           |           |           |           |           |           |           |           |           |           |           |           |           |           |           |           |           |           |           |           |           |           |           |           |           |           |           |           |           |           |           |           |           |           |           |           |           |           |            |            |            |            |            |            |            |            |            |            |            |            |            |            |            |            |            |            |            |            |            |            |            |            |            |            |            |            |            |            |            |            |            |            |            |            |            |\n",
      "| bryant        |                0 |                 2 |                0 |                28 | There    | '        | s        | a        | garden   | that     | I        | ken      | ,         | Full      | of        | little    | gentlemen | ;         | Little    | caps      | of        | blue      | they      | wear      | ,         | And       | green     | ribbons   | ,         | very      | fair      | .         |           |           |           |           |           |           |           |           |           |           |           |           |           |           |           |           |           |           |           |           |           |           |           |           |           |           |           |           |           |           |           |           |           |           |           |           |           |           |           |           |           |           |           |           |           |           |           |           |           |           |           |           |           |           |           |           |           |           |           |           |           |           |           |           |           |           |           |           |           |           |           |            |            |            |            |            |            |            |            |            |            |            |            |            |            |            |            |            |            |            |            |            |            |            |            |            |            |            |            |            |            |            |            |            |            |            |            |            |\n",
      "| bryant        |                0 |                 2 |                1 |                 3 | (        | Flax     | .)       |          |          |          |          |          |           |           |           |           |           |           |           |           |           |           |           |           |           |           |           |           |           |           |           |           |           |           |           |           |           |           |           |           |           |           |           |           |           |           |           |           |           |           |           |           |           |           |           |           |           |           |           |           |           |           |           |           |           |           |           |           |           |           |           |           |           |           |           |           |           |           |           |           |           |           |           |           |           |           |           |           |           |           |           |           |           |           |           |           |           |           |           |           |           |           |           |            |            |            |            |            |            |            |            |            |            |            |            |            |            |            |            |            |            |            |            |            |            |            |            |            |            |            |            |            |            |            |            |            |            |            |            |            |\n",
      "| bryant        |                0 |                 3 |                0 |                27 | From     | house    | to       | house    | he       | goes     | ,        | A        | messenger | small     | and       | slight    | ,         | And       | whether   | it        | rains     | or        | snows     | ,         | He        | sleeps    | outside   | in        | the       | night     | .         |           |           |           |           |           |           |           |           |           |           |           |           |           |           |           |           |           |           |           |           |           |           |           |           |           |           |           |           |           |           |           |           |           |           |           |           |           |           |           |           |           |           |           |           |           |           |           |           |           |           |           |           |           |           |           |           |           |           |           |           |           |           |           |           |           |           |           |           |           |           |           |           |            |            |            |            |            |            |            |            |            |            |            |            |            |            |            |            |            |            |            |            |            |            |            |            |            |            |            |            |            |            |            |            |            |            |            |            |            |\n",
      "+---------------+------------------+-------------------+------------------+-------------------+----------+----------+----------+----------+----------+----------+----------+----------+-----------+-----------+-----------+-----------+-----------+-----------+-----------+-----------+-----------+-----------+-----------+-----------+-----------+-----------+-----------+-----------+-----------+-----------+-----------+-----------+-----------+-----------+-----------+-----------+-----------+-----------+-----------+-----------+-----------+-----------+-----------+-----------+-----------+-----------+-----------+-----------+-----------+-----------+-----------+-----------+-----------+-----------+-----------+-----------+-----------+-----------+-----------+-----------+-----------+-----------+-----------+-----------+-----------+-----------+-----------+-----------+-----------+-----------+-----------+-----------+-----------+-----------+-----------+-----------+-----------+-----------+-----------+-----------+-----------+-----------+-----------+-----------+-----------+-----------+-----------+-----------+-----------+-----------+-----------+-----------+-----------+-----------+-----------+-----------+-----------+-----------+-----------+-----------+-----------+-----------+-----------+------------+------------+------------+------------+------------+------------+------------+------------+------------+------------+------------+------------+------------+------------+------------+------------+------------+------------+------------+------------+------------+------------+------------+------------+------------+------------+------------+------------+------------+------------+------------+------------+------------+------------+------------+------------+------------+\n"
     ]
    }
   ],
   "source": [
    "author_collection_to_csv(books_a, AUTHOR_A, output_path)\n",
    "author_collection_to_csv(books_b, AUTHOR_B, output_path)"
   ]
  }
 ],
 "metadata": {
  "kernelspec": {
   "display_name": ".venv",
   "language": "python",
   "name": "python3"
  },
  "language_info": {
   "codemirror_mode": {
    "name": "ipython",
    "version": 3
   },
   "file_extension": ".py",
   "mimetype": "text/x-python",
   "name": "python",
   "nbconvert_exporter": "python",
   "pygments_lexer": "ipython3",
   "version": "3.11.7"
  }
 },
 "nbformat": 4,
 "nbformat_minor": 2
}
