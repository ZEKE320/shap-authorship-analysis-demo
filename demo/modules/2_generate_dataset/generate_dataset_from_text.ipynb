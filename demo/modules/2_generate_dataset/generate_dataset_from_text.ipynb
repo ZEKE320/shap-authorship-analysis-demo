{
 "cells": [
  {
   "cell_type": "code",
   "execution_count": null,
   "metadata": {},
   "outputs": [],
   "source": [
    "%load_ext autoreload\n",
    "%autoreload 2"
   ]
  },
  {
   "cell_type": "code",
   "execution_count": null,
   "metadata": {},
   "outputs": [],
   "source": [
    "import numpy as np\n",
    "import pandas as pd\n",
    "\n",
    "from authorship_tool.types_ import Para2dStr, Tag\n",
    "from authorship_tool.util.feature.dataset_generator import (\n",
    "    ParagraphFeatureDatasetGenerator,\n",
    ")\n",
    "from authorship_tool.util.feature.pos import PosFeature\n",
    "from dataclasses import dataclass\n",
    "from authorship_tool.util.path_util import BasePaths"
   ]
  },
  {
   "cell_type": "code",
   "execution_count": null,
   "metadata": {},
   "outputs": [],
   "source": [
    "np.seterr(divide=\"call\")\n",
    "pd.set_option(\"display.max_columns\", None)\n",
    "pd.set_option(\"display.max_rows\", None)"
   ]
  },
  {
   "cell_type": "code",
   "execution_count": null,
   "metadata": {},
   "outputs": [],
   "source": [
    "@dataclass(frozen=True, init=False)\n",
    "class ManualDatasetPath(BasePaths):\n",
    "    basename: str = \"manual\"\n",
    "\n",
    "\n",
    "ManualDatasetPath.init_paths()"
   ]
  },
  {
   "cell_type": "code",
   "execution_count": null,
   "metadata": {},
   "outputs": [],
   "source": [
    "paras_a: list[Para2dStr] = []"
   ]
  },
  {
   "cell_type": "code",
   "execution_count": null,
   "metadata": {},
   "outputs": [],
   "source": [
    "paras_b: list[Para2dStr] = []"
   ]
  },
  {
   "cell_type": "code",
   "execution_count": null,
   "metadata": {},
   "outputs": [],
   "source": [
    "all_paras: list[Para2dStr] = paras_a + paras_b\n",
    "all_pos: tuple[Tag, ...] = PosFeature(all_paras).tag_subcategories().all_pos\n",
    "print(all_pos)"
   ]
  },
  {
   "cell_type": "code",
   "execution_count": null,
   "metadata": {},
   "outputs": [],
   "source": [
    "dataset_generator = ParagraphFeatureDatasetGenerator(tags=all_pos)"
   ]
  },
  {
   "cell_type": "code",
   "execution_count": null,
   "metadata": {},
   "outputs": [],
   "source": [
    "para_ans_pairs: tuple[tuple[Para2dStr, np.bool_], ...] = tuple(\n",
    "    (para, np.bool_(True)) for para in paras_a\n",
    ") + tuple((para, np.bool_(False)) for para in paras_b)"
   ]
  },
  {
   "cell_type": "code",
   "execution_count": null,
   "metadata": {},
   "outputs": [],
   "source": [
    "dataset_tuple = tuple(\n",
    "    dataset_generator.generate_from_paragraph(para, answer)\n",
    "    for para, answer in para_ans_pairs\n",
    ")"
   ]
  },
  {
   "cell_type": "code",
   "execution_count": null,
   "metadata": {},
   "outputs": [],
   "source": [
    "datasets: pd.DataFrame = pd.concat(dataset_tuple, axis=1).reset_index(drop=True).T"
   ]
  },
  {
   "cell_type": "code",
   "execution_count": null,
   "metadata": {},
   "outputs": [],
   "source": [
    "datasets.columns = (*dataset_generator.columns, \"answer\")\n",
    "for col, dtype in zip(\n",
    "    datasets.columns,\n",
    "    dataset_generator.dtypes + [bool],\n",
    "    strict=True,\n",
    "):\n",
    "    datasets[col] = datasets[col].astype(dtype)"
   ]
  },
  {
   "cell_type": "code",
   "execution_count": null,
   "metadata": {},
   "outputs": [],
   "source": [
    "display(datasets.head(10))"
   ]
  },
  {
   "cell_type": "code",
   "execution_count": null,
   "metadata": {},
   "outputs": [],
   "source": [
    "print(datasets.shape)"
   ]
  },
  {
   "cell_type": "code",
   "execution_count": null,
   "metadata": {},
   "outputs": [],
   "source": [
    "print(datasets.dtypes)"
   ]
  },
  {
   "cell_type": "code",
   "execution_count": null,
   "metadata": {},
   "outputs": [],
   "source": [
    "print(datasets.isna().sum())"
   ]
  },
  {
   "cell_type": "code",
   "execution_count": null,
   "metadata": {},
   "outputs": [],
   "source": [
    "datasets.to_csv(ManualDatasetPath.dataset_output_dir.joinpath(\"dataset.csv\"))"
   ]
  }
 ],
 "metadata": {
  "kernelspec": {
   "display_name": ".venv",
   "language": "python",
   "name": "python3"
  },
  "language_info": {
   "codemirror_mode": {
    "name": "ipython",
    "version": 3
   },
   "file_extension": ".py",
   "mimetype": "text/x-python",
   "name": "python",
   "nbconvert_exporter": "python",
   "pygments_lexer": "ipython3",
   "version": "3.12.4"
  }
 },
 "nbformat": 4,
 "nbformat_minor": 2
}
